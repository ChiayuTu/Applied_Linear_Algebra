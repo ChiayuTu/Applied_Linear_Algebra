{
  "nbformat": 4,
  "nbformat_minor": 0,
  "metadata": {
    "colab": {
      "provenance": []
    },
    "kernelspec": {
      "name": "python3",
      "display_name": "Python 3"
    },
    "language_info": {
      "name": "python"
    }
  },
  "cells": [
    {
      "cell_type": "markdown",
      "source": [
        "# Section 5: Computations and Applications / Final Project\n",
        "\n",
        "Coming to the end of the term we are going to combine and review topics from the last sections to answer computational questions involving matrices."
      ],
      "metadata": {
        "id": "Gkqp-G8K-ynU"
      }
    },
    {
      "cell_type": "markdown",
      "source": [
        "## Homework 5: Stationary methods for solving positive definite systems\n",
        "\n",
        "In class you have discussed iterative methods for solving linear systems. In the following exercise we will implement a stationary method based on a few smoothers (L1 and variations of Gauss-Seidel).\n",
        "\n",
        "In the code below I have implemented the algorithm for a smoother based stationary method. Stationary solvers are only garaunteed to converge for SPD systems, you might have justified this during lecture.\n",
        "\n",
        "Your task in this exercise is to create the smoothers and evaluate the convergence rate for each. The smoothers to be implemented are:\n",
        "*   L1\n",
        "*   Forward Gauss-Seidel\n",
        "*   Symmetric Gauss-Seidel\n",
        "\n",
        "The `stationary` function I have implemented takes `smoother` as an argument. A cool feature of python is syntactically simple first class functions. All that means is functions can be treated just like any other variable. In this case, the `smoother` argument below is a function that takes some `residual` vector and returns the inverse action of the smoother on that vector. As an example, I have implemented Backward Gauss-Seidel."
      ],
      "metadata": {
        "id": "oaiT0BKx_x3D"
      }
    },
    {
      "cell_type": "code",
      "source": [
        "from numpy.linalg import norm\n",
        "from scipy.io import mmread\n",
        "from scipy.sparse import csr_matrix, tril, triu\n",
        "from scipy.sparse.linalg import spsolve_triangular\n",
        "import numpy as np\n",
        "from google.colab import drive\n",
        "import matplotlib.pyplot as plt\n",
        "drive.mount('/content/drive')"
      ],
      "metadata": {
        "id": "dxiZ2gWvRoUs",
        "colab": {
          "base_uri": "https://localhost:8080/"
        },
        "outputId": "8aedc808-f94f-4648-c36b-698e58c6c102"
      },
      "execution_count": null,
      "outputs": [
        {
          "output_type": "stream",
          "name": "stdout",
          "text": [
            "Drive already mounted at /content/drive; to attempt to forcibly remount, call drive.mount(\"/content/drive\", force_remount=True).\n"
          ]
        }
      ]
    },
    {
      "cell_type": "code",
      "source": [
        "def stationary(A, rhs, guess, max_iter, epsilon, smoother):\n",
        "  x = guess.copy()\n",
        "  residual = rhs - A @ x\n",
        "  r0_norm = norm(residual)\n",
        "  norm_history = []\n",
        "\n",
        "  for iter in range(max_iter):\n",
        "    r_norm = norm(residual)\n",
        "    norm_history.append(r_norm)\n",
        "\n",
        "    if r_norm < epsilon * r0_norm:\n",
        "      return (True, x, norm_history)\n",
        "    \n",
        "    x += smoother(residual)\n",
        "    residual = rhs - A @ x\n",
        "  \n",
        "  return (False, x, norm_history)"
      ],
      "metadata": {
        "id": "lnoaUUJ2EQZ0"
      },
      "execution_count": null,
      "outputs": []
    },
    {
      "cell_type": "code",
      "source": [
        "from google.colab import drive\n",
        "drive.mount('/content/drive')"
      ],
      "metadata": {
        "colab": {
          "base_uri": "https://localhost:8080/"
        },
        "id": "IA_rfUaqBew2",
        "outputId": "79f21f10-fce6-4994-c1de-060b0b252211"
      },
      "execution_count": null,
      "outputs": [
        {
          "output_type": "stream",
          "name": "stdout",
          "text": [
            "Drive already mounted at /content/drive; to attempt to forcibly remount, call drive.mount(\"/content/drive\", force_remount=True).\n"
          ]
        }
      ]
    },
    {
      "cell_type": "markdown",
      "source": [
        "### Backward Gauss Seidel Solution"
      ],
      "metadata": {
        "id": "76aGtac-C0da"
      }
    },
    {
      "cell_type": "code",
      "source": [
        "folder = 'MyDrive/MTH343/matrices'\n",
        "name = 'bcsstk05'\n",
        "mat = mmread('/content/drive/MyDrive/MTH343/matrices/bcsstk05.mtx')\n",
        "mat\n",
        "upper = triu(mat, format='csr')\n",
        "upper\n",
        "print(mat)\n",
        "print(upper)"
      ],
      "metadata": {
        "colab": {
          "base_uri": "https://localhost:8080/"
        },
        "id": "eCQ3jeMmHvX8",
        "outputId": "751c3537-6a8a-4fea-8719-b12cea76313f"
      },
      "execution_count": null,
      "outputs": [
        {
          "output_type": "stream",
          "name": "stdout",
          "text": [
            "  (0, 0)\t314313.927913\n",
            "  (3, 0)\t-86857.8705282\n",
            "  (4, 0)\t56340.2403426\n",
            "  (6, 0)\t-35149.5467141\n",
            "  (7, 0)\t93732.1245708\n",
            "  (8, 0)\t-35149.5467141\n",
            "  (9, 0)\t-35149.5467141\n",
            "  (10, 0)\t-93732.1245708\n",
            "  (11, 0)\t35149.5467141\n",
            "  (12, 0)\t-86857.8705282\n",
            "  (13, 0)\t-56340.2403426\n",
            "  (15, 0)\t-35149.5467141\n",
            "  (16, 0)\t-93732.1245708\n",
            "  (17, 0)\t-35149.5467141\n",
            "  (18, 0)\t-35149.5467141\n",
            "  (19, 0)\t93732.1245708\n",
            "  (20, 0)\t35149.5467141\n",
            "  (1, 1)\t1072899.37028\n",
            "  (2, 1)\t4.65661287308e-10\n",
            "  (3, 1)\t56340.2403426\n",
            "  (4, 1)\t-36545.0207628\n",
            "  (6, 1)\t93732.1245708\n",
            "  (7, 1)\t-249952.332189\n",
            "  (8, 1)\t93732.1245708\n",
            "  (9, 1)\t-93732.1245708\n",
            "  :\t:\n",
            "  (140, 141)\t-4019.61386642\n",
            "  (140, 142)\t32843.1864695\n",
            "  (140, 143)\t-33970.6391393\n",
            "  (140, 147)\t-4019.61386642\n",
            "  (140, 148)\t-3886.2067684\n",
            "  (140, 149)\t-475.625305983\n",
            "  (140, 150)\t9329.71093047\n",
            "  (140, 151)\t-76230.5649197\n",
            "  (140, 152)\t-9329.71093047\n",
            "  (141, 142)\t-177397.555563\n",
            "  (141, 143)\t25079.7395703\n",
            "  (141, 144)\t-155446.236559\n",
            "  (142, 143)\t-206316.825007\n",
            "  (143, 152)\t-155446.236559\n",
            "  (144, 145)\t170471.280152\n",
            "  (144, 146)\t-20690.8460296\n",
            "  (145, 146)\t-170471.280152\n",
            "  (146, 149)\t-155446.236559\n",
            "  (147, 148)\t170471.280152\n",
            "  (147, 149)\t20690.8460296\n",
            "  (147, 150)\t-155446.236559\n",
            "  (148, 149)\t170471.280152\n",
            "  (150, 151)\t-170471.280152\n",
            "  (150, 152)\t-20690.8460296\n",
            "  (151, 152)\t170471.280152\n",
            "  (0, 0)\t314313.927913\n",
            "  (0, 3)\t-86857.8705282\n",
            "  (0, 4)\t56340.2403426\n",
            "  (0, 6)\t-35149.5467141\n",
            "  (0, 7)\t93732.1245708\n",
            "  (0, 8)\t-35149.5467141\n",
            "  (0, 9)\t-35149.5467141\n",
            "  (0, 10)\t-93732.1245708\n",
            "  (0, 11)\t35149.5467141\n",
            "  (0, 12)\t-86857.8705282\n",
            "  (0, 13)\t-56340.2403426\n",
            "  (0, 15)\t-35149.5467141\n",
            "  (0, 16)\t-93732.1245708\n",
            "  (0, 17)\t-35149.5467141\n",
            "  (0, 18)\t-35149.5467141\n",
            "  (0, 19)\t93732.1245708\n",
            "  (0, 20)\t35149.5467141\n",
            "  (1, 1)\t1072899.37028\n",
            "  (1, 2)\t4.65661287308e-10\n",
            "  (1, 3)\t56340.2403426\n",
            "  (1, 4)\t-36545.0207628\n",
            "  (1, 6)\t93732.1245708\n",
            "  (1, 7)\t-249952.332189\n",
            "  (1, 8)\t93732.1245708\n",
            "  (1, 9)\t-93732.1245708\n",
            "  :\t:\n",
            "  (141, 144)\t-155446.236559\n",
            "  (142, 142)\t1462557.07209\n",
            "  (142, 143)\t-206316.825007\n",
            "  (143, 143)\t263938.894824\n",
            "  (143, 152)\t-155446.236559\n",
            "  (144, 144)\t241225.059329\n",
            "  (144, 145)\t170471.280152\n",
            "  (144, 146)\t-20690.8460296\n",
            "  (145, 145)\t1405987.89045\n",
            "  (145, 146)\t-170471.280152\n",
            "  (146, 146)\t241225.059329\n",
            "  (146, 149)\t-155446.236559\n",
            "  (147, 147)\t241225.059329\n",
            "  (147, 148)\t170471.280152\n",
            "  (147, 149)\t20690.8460296\n",
            "  (147, 150)\t-155446.236559\n",
            "  (148, 148)\t1405987.89045\n",
            "  (148, 149)\t170471.280152\n",
            "  (149, 149)\t241225.059329\n",
            "  (150, 150)\t241225.059329\n",
            "  (150, 151)\t-170471.280152\n",
            "  (150, 152)\t-20690.8460296\n",
            "  (151, 151)\t1405987.89045\n",
            "  (151, 152)\t170471.280152\n",
            "  (152, 152)\t241225.059329\n"
          ]
        }
      ]
    },
    {
      "cell_type": "code",
      "source": [
        "def bgs():\n",
        "  #folder = 'MyDrive/MTH343/matrices'\n",
        "  #name = 'bcsstk05'\n",
        "  #mat = mmread(f'{folder}/{name}.mtx').tocsr()\n",
        "  mat = mmread('/content/drive/MyDrive/MTH343/matrices/bcsstk05.mtx')\n",
        "  upper = triu(mat, format='csr')\n",
        "\n",
        "  def bgs_smoother(residual):\n",
        "    return spsolve_triangular(upper, residual, lower=False)\n",
        "\n",
        "  dim = mat.shape[0]\n",
        "  return stationary(mat, np.ones(dim), np.zeros(dim), 2000, 1e-5, bgs_smoother)"
      ],
      "metadata": {
        "id": "CXBITqs6aP6k"
      },
      "execution_count": null,
      "outputs": []
    },
    {
      "cell_type": "code",
      "source": [
        "#@title Default title text\n",
        "converged, x, history = bgs()\n",
        "x = np.arange(len(history))\n",
        "\n",
        "plt.scatter(x, history)\n",
        "plt.show()"
      ],
      "metadata": {
        "id": "bg0u8sSt4i3O",
        "colab": {
          "base_uri": "https://localhost:8080/",
          "height": 265
        },
        "outputId": "5910cee3-e89b-43f6-c6e9-7aa71b924819"
      },
      "execution_count": null,
      "outputs": [
        {
          "output_type": "display_data",
          "data": {
            "text/plain": [
              "<Figure size 432x288 with 1 Axes>"
            ],
            "image/png": "[encoded data removed]"
          },
          "metadata": {
            "needs_background": "light"
          }
        }
      ]
    },
    {
      "cell_type": "code",
      "source": [
        "# Your code here"
      ],
      "metadata": {
        "id": "I5X7U2vA4P0S"
      },
      "execution_count": null,
      "outputs": []
    },
    {
      "cell_type": "markdown",
      "source": [
        "## Final Project\n",
        "\n",
        "There are two algorithms for the final project. You will:\n",
        "*   implement\n",
        "*   test with various matrices\n",
        "*   describe the results by plotting the convergence of the algorithm with respect to the iterations (may provide multiple plots for different sets of parameters)\n",
        "\n",
        "The basic option is Arnoldi. A bonus part is implementing the Generalized Minimal Residual (GMRES) algorithm on top of it."
      ],
      "metadata": {
        "id": "Dl-OR4EIGtUY"
      }
    },
    {
      "cell_type": "markdown",
      "source": [
        "### Arnoldi Algorithm\n",
        "\n",
        "Let $A$ be a given $n \\times n$ matrix. We will use it only via its actions on any given vector $\\mathbf p$, i.e., it may be given as a function with input $A$ and vector $\\mathbf v$ which returns a vector $\\mathbf w = A \\mathbf v$.\n",
        "\n",
        "\n",
        "The implementation requires computing inner products of vectors $\\mathbf p$ and $\\mathbf q$, and norm $\\|.\\|$ of vectors.\n",
        "The output of the algorithm is a set of orthogonal vectors $\\{\\mathbf q_i\\}$ and a $m \\times m$ matrix $H = (h_{ij})$ where $h_{ij} = 0 $ for $i > j+1$.\n",
        "\n",
        "\n",
        "- Input: matrix $A$, a vector $\\mathbf r$, and an integer $m$. Typical values $m=5, 10, 50, ...$ (much smaller than the size $n$ of the matrix $A$).\n",
        "- Output: matrix $Q=[\\mathbf q_0,\\mathbf q_1,\\mathbf q_2, \\cdots, \\mathbf q_m]$ with orthonormal columns and an $m+1 \\times m+1$ matrix $H = (h_{ij})$ with zeros below the 1st diagonal below  the main one.\n",
        "If $A$ is symmetric, $H = (h_{ij})$ is also symmetric and hence becomes tridiagonal, that is, $h_{ij} = 0$ for $|i-j| > 1$ (all entries outside the band of the three main diagonals of the matrix are zero).\n",
        "\n",
        "#### Algorithm\n",
        "\n",
        "- Initialize $\\mathbf q_0= \\mathbf r/\\|\\mathbf r\\|$.\n",
        "-  Loop: For $j$ in range $(0,m)$:\n",
        "  - $\\mathbf v = A \\mathbf q_j$.\n",
        "\n",
        "  - Loop: For $i$ in range $(0,j+1)$:\n",
        "    - $h_{ij} = \\mathbf q^T_i \\mathbf v$\n",
        "    - $\\mathbf v= \\mathbf v-h_{ij}\\mathbf q_i$\n",
        "  - $h_{j+1,j} = \\|\\mathbf v\\|$\n",
        "  - $\\mathbf q_{j+1} = \\mathbf v/h_{j+1,j}$\n",
        "\n",
        "#### Analysis\n",
        "Use `scipy.linalg.eigh_tridiagonal` to get the eigenvalues of the resulting $H$ and plot the maximum and minimum eigenvalues as $H$ grows in size. Calculate the maximum and minimum eigenvalues of the matrix and plot these as horizonal lines on this results."
      ],
      "metadata": {
        "id": "v84nmxyq5Y2Q"
      }
    },
    {
      "cell_type": "code",
      "source": [
        "H = np.zeros((5+1, 5))\n",
        "print(H.shape)\n",
        "mat.shape[0]\n"
      ],
      "metadata": {
        "colab": {
          "base_uri": "https://localhost:8080/"
        },
        "id": "t94KNyMpQEN2",
        "outputId": "d407e154-0bce-4720-b30e-64906456bb0c"
      },
      "execution_count": 26,
      "outputs": [
        {
          "output_type": "stream",
          "name": "stdout",
          "text": [
            "(6, 5)\n"
          ]
        },
        {
          "output_type": "execute_result",
          "data": {
            "text/plain": [
              "153"
            ]
          },
          "metadata": {},
          "execution_count": 26
        }
      ]
    },
    {
      "cell_type": "code",
      "source": [
        "import numpy as np\n",
        "from scipy import sparse\n",
        "from scipy.io import mmread\n",
        "from google.colab import drive\n",
        "import matplotlib.pyplot as plt\n",
        "from scipy.linalg import eigh_tridiagonal\n",
        "from scipy.linalg import eigh\n",
        "import tensorflow as tf\n",
        "from IPython.display import HTML\n",
        "from matplotlib import animation\n",
        "drive.mount('/content/drive')\n",
        "folder = 'MyDrive/MTH343/matrices'\n",
        "name = 'bcsstk05'\n",
        "mat = mmread('/content/drive/MyDrive/MTH343/matrices/bcsstk05.mtx')\n",
        "\"\"\"\n",
        "    Arnoldi algorithm (Krylov approximation of a matrix)\n",
        "        input: \n",
        "            A: matrix to approximate\n",
        "            v0: initial vector (should be in matrix form) \n",
        "            m: number of Krylov steps \n",
        "        output: \n",
        "            Q: matrix (large, N*k) containing the orthogonal vectors\n",
        "            H: matrix (small, k*k) containing the Krylov approximation of A\n",
        "\n",
        "\"\"\"\n",
        "def Arnoldi_Algorithm(A, v0, m):\n",
        "  H = np.zeros((m, m))\n",
        "  Q = np.zeros((A.shape[0], m))\n",
        "  # Normalize the input vector\n",
        "  Q[:,0] = v0 / np.linalg.norm(v0)\n",
        "  for i in range(m):\n",
        "    v = A.dot(Q[:, i])\n",
        "    for j in range(0, i+1):\n",
        "      H[j, i] = np.dot(Q[:, j].T, v)\n",
        "      v = v - np.dot(H[j, i], Q[:, j])\n",
        "    if(i+1 < m):\n",
        "      H[i+1, i] = np.linalg.norm(v)\n",
        "      Q[:, i+1] = v / H[i+1, i]\n",
        "  return H,Q"
      ],
      "metadata": {
        "id": "pdXK4IjAMeFz",
        "colab": {
          "base_uri": "https://localhost:8080/"
        },
        "outputId": "3654a20d-aac3-4110-f1f9-ac71b67e7f05"
      },
      "execution_count": 19,
      "outputs": [
        {
          "output_type": "stream",
          "name": "stdout",
          "text": [
            "Drive already mounted at /content/drive; to attempt to forcibly remount, call drive.mount(\"/content/drive\", force_remount=True).\n"
          ]
        }
      ]
    },
    {
      "cell_type": "code",
      "source": [
        "#print(mat.shape)\n",
        "# Random vector\n",
        "V = np.ones(153)\n",
        "#print(V.shape)\n",
        "m1 = 5\n",
        "h1, q1 = Arnoldi_Algorithm(mat, V, m1)\n",
        "eigs = eigh_tridiagonal(np.diag(h1), np.diag(h1,k=-1), eigvals_only=True)\n",
        "x = np.arange(len(eigs))\n",
        "plt.scatter(x, eigs)\n",
        "plt.show()\n",
        "\n",
        "print(\"H is:\")\n",
        "print(h1)\n",
        "print(\"Q is\")\n",
        "print(q1)"
      ],
      "metadata": {
        "colab": {
          "base_uri": "https://localhost:8080/",
          "height": 1000
        },
        "id": "N03vE-oOElCB",
        "outputId": "1d6c557b-1f76-4e25-966d-f7f6b5393a1b"
      },
      "execution_count": 20,
      "outputs": [
        {
          "output_type": "display_data",
          "data": {
            "text/plain": [
              "<Figure size 432x288 with 1 Axes>"
            ],
            "image/png": "[encoded data removed]"
          },
          "metadata": {
            "needs_background": "light"
          }
        },
        {
          "output_type": "stream",
          "name": "stdout",
          "text": [
            "H is:\n",
            "[[ 2.10098768e+04  1.16344383e+05 -4.72937245e-11  1.65300662e-10\n",
            "  -1.20962795e-10]\n",
            " [ 1.16344383e+05  1.45571430e+06  7.16898734e+05  7.98536348e-10\n",
            "  -1.32604328e-09]\n",
            " [ 0.00000000e+00  7.16898734e+05  1.93461798e+06  1.28317860e+06\n",
            "  -1.76987669e-09]\n",
            " [ 0.00000000e+00  0.00000000e+00  1.28317860e+06  2.61981399e+06\n",
            "   1.31462531e+06]\n",
            " [ 0.00000000e+00  0.00000000e+00  0.00000000e+00  1.31462531e+06\n",
            "   2.92254262e+06]]\n",
            "Q is\n",
            "[[ 8.08452083e-02 -1.45993113e-02  1.65247054e-02 -1.67574213e-02\n",
            "   1.72651314e-02]\n",
            " [ 8.08452083e-02 -1.45993113e-02  1.65247053e-02 -1.67574213e-02\n",
            "   1.72651314e-02]\n",
            " [ 8.08452083e-02 -1.45993113e-02  1.65247054e-02 -1.67574213e-02\n",
            "   1.72651314e-02]\n",
            " [ 8.08452083e-02 -1.45993113e-02  1.65247054e-02 -1.67574213e-02\n",
            "   1.72651314e-02]\n",
            " [ 8.08452083e-02 -1.45993113e-02  1.65247054e-02 -1.67574213e-02\n",
            "   1.72651314e-02]\n",
            " [ 8.08452083e-02 -1.45993113e-02  1.65247054e-02 -1.67574213e-02\n",
            "   1.72651314e-02]\n",
            " [ 8.08452083e-02 -1.45993113e-02  1.65247054e-02 -1.67574213e-02\n",
            "   1.72651314e-02]\n",
            " [ 8.08452083e-02 -1.45993113e-02  1.65247053e-02 -1.67574213e-02\n",
            "   1.72651314e-02]\n",
            " [ 8.08452083e-02 -1.45993113e-02  1.65247054e-02 -1.67574213e-02\n",
            "   1.72651314e-02]\n",
            " [ 8.08452083e-02 -1.45993113e-02  1.65247054e-02 -1.67574213e-02\n",
            "   1.72651314e-02]\n",
            " [ 8.08452083e-02 -1.45993113e-02  1.65247053e-02 -1.67574213e-02\n",
            "   1.72651314e-02]\n",
            " [ 8.08452083e-02 -1.45993113e-02  1.65247054e-02 -1.67574213e-02\n",
            "   1.72651314e-02]\n",
            " [ 8.08452083e-02 -1.45993113e-02  1.65247054e-02 -1.67574213e-02\n",
            "   1.72651314e-02]\n",
            " [ 8.08452083e-02 -1.45993113e-02  1.65247054e-02 -1.67574213e-02\n",
            "   1.72651314e-02]\n",
            " [ 8.08452083e-02 -1.45993113e-02  1.65247054e-02 -1.67574213e-02\n",
            "   1.72651314e-02]\n",
            " [ 8.08452083e-02 -1.45993113e-02  1.65247054e-02 -1.67574213e-02\n",
            "   1.72651314e-02]\n",
            " [ 8.08452083e-02 -1.45993113e-02  1.65247053e-02 -1.67574213e-02\n",
            "   1.72651314e-02]\n",
            " [ 8.08452083e-02 -1.45993113e-02  1.65247054e-02 -1.67574213e-02\n",
            "   1.72651314e-02]\n",
            " [ 8.08452083e-02 -1.45993113e-02  1.65247054e-02 -1.67574213e-02\n",
            "   1.72651314e-02]\n",
            " [ 8.08452083e-02 -1.45993113e-02  1.65247053e-02 -1.67574213e-02\n",
            "   1.72651314e-02]\n",
            " [ 8.08452083e-02 -1.45993113e-02  1.65247054e-02 -1.67574213e-02\n",
            "   1.72651314e-02]\n",
            " [ 8.08452083e-02 -1.45993113e-02  1.65247054e-02 -1.67574213e-02\n",
            "   1.72651314e-02]\n",
            " [ 8.08452083e-02 -1.45993113e-02  1.65247053e-02 -1.67574213e-02\n",
            "   1.72651314e-02]\n",
            " [ 8.08452083e-02 -1.45993113e-02  1.65247054e-02 -1.67574213e-02\n",
            "   1.72651314e-02]\n",
            " [ 8.08452083e-02 -1.45993113e-02  1.65247054e-02 -1.67574213e-02\n",
            "   1.72651314e-02]\n",
            " [ 8.08452083e-02 -1.45993113e-02  1.65247053e-02 -1.67574213e-02\n",
            "   1.72651314e-02]\n",
            " [ 8.08452083e-02 -1.45993113e-02  1.65247054e-02 -1.67574213e-02\n",
            "   1.72651314e-02]\n",
            " [ 8.08452083e-02 -1.45993113e-02  1.65247054e-02 -1.67574213e-02\n",
            "   1.72651314e-02]\n",
            " [ 8.08452083e-02 -1.45993113e-02  1.65247053e-02 -1.67574213e-02\n",
            "   1.72651314e-02]\n",
            " [ 8.08452083e-02 -1.45993113e-02  1.65247054e-02 -1.67574213e-02\n",
            "   1.72651314e-02]\n",
            " [ 8.08452083e-02 -1.45993113e-02  1.65247054e-02 -1.67574213e-02\n",
            "   1.72651314e-02]\n",
            " [ 8.08452083e-02 -1.45993113e-02  1.65247053e-02 -1.67574213e-02\n",
            "   1.72651314e-02]\n",
            " [ 8.08452083e-02 -1.45993113e-02  1.65247054e-02 -1.67574213e-02\n",
            "   1.72651314e-02]\n",
            " [ 8.08452083e-02 -1.45993113e-02  1.65247054e-02 -1.67574213e-02\n",
            "   1.72651314e-02]\n",
            " [ 8.08452083e-02 -1.45993113e-02  1.65247054e-02 -1.67574213e-02\n",
            "   1.72651314e-02]\n",
            " [ 8.08452083e-02 -1.45993113e-02  1.65247054e-02 -1.67574213e-02\n",
            "   1.72651314e-02]\n",
            " [ 8.08452083e-02 -1.45993113e-02  1.65247054e-02 -1.67574213e-02\n",
            "   1.72651314e-02]\n",
            " [ 8.08452083e-02 -1.45993113e-02  1.65247053e-02 -1.67574213e-02\n",
            "   1.72651314e-02]\n",
            " [ 8.08452083e-02 -1.45993113e-02  1.65247054e-02 -1.67574213e-02\n",
            "   1.72651314e-02]\n",
            " [ 8.08452083e-02 -1.45993113e-02  1.65247054e-02 -1.67574213e-02\n",
            "   1.72651314e-02]\n",
            " [ 8.08452083e-02 -1.45993113e-02  1.65247053e-02 -1.67574213e-02\n",
            "   1.72651314e-02]\n",
            " [ 8.08452083e-02 -1.45993113e-02  1.65247054e-02 -1.67574213e-02\n",
            "   1.72651314e-02]\n",
            " [ 8.08452083e-02 -1.45993113e-02  1.65247054e-02 -1.67574213e-02\n",
            "   1.72651314e-02]\n",
            " [ 8.08452083e-02 -1.45993113e-02  1.65247054e-02 -1.67574213e-02\n",
            "   1.72651314e-02]\n",
            " [ 8.08452083e-02 -1.45993113e-02  1.65247054e-02 -1.67574213e-02\n",
            "   1.72651314e-02]\n",
            " [ 8.08452083e-02 -1.45993113e-02  1.65247054e-02 -1.67574213e-02\n",
            "   1.72651314e-02]\n",
            " [ 8.08452083e-02 -1.45993113e-02  1.65247054e-02 -1.67574213e-02\n",
            "   1.72651314e-02]\n",
            " [ 8.08452083e-02 -1.45993113e-02  1.65247054e-02 -1.67574213e-02\n",
            "   1.72651314e-02]\n",
            " [ 8.08452083e-02 -1.45993113e-02  1.65247054e-02 -1.67574213e-02\n",
            "   1.72651314e-02]\n",
            " [ 8.08452083e-02 -1.45993113e-02  1.65247054e-02 -1.67574213e-02\n",
            "   1.72651314e-02]\n",
            " [ 8.08452083e-02 -1.45993113e-02  1.65247054e-02 -1.67574213e-02\n",
            "   1.72651314e-02]\n",
            " [ 8.08452083e-02 -1.45993113e-02  1.65247054e-02 -1.67574213e-02\n",
            "   1.72651314e-02]\n",
            " [ 8.08452083e-02 -1.45993113e-02  1.65247053e-02 -1.67574213e-02\n",
            "   1.72651314e-02]\n",
            " [ 8.08452083e-02 -1.45993113e-02  1.65247054e-02 -1.67574213e-02\n",
            "   1.72651314e-02]\n",
            " [ 8.08452083e-02 -1.45993113e-02  1.65247054e-02 -1.67574213e-02\n",
            "   1.72651314e-02]\n",
            " [ 8.08452083e-02 -1.45993113e-02  1.65247053e-02 -1.67574213e-02\n",
            "   1.72651314e-02]\n",
            " [ 8.08452083e-02 -1.45993113e-02  1.65247054e-02 -1.67574213e-02\n",
            "   1.72651314e-02]\n",
            " [ 8.08452083e-02 -1.45993113e-02  1.65247054e-02 -1.67574213e-02\n",
            "   1.72651314e-02]\n",
            " [ 8.08452083e-02 -1.45993113e-02  1.65247054e-02 -1.67574213e-02\n",
            "   1.72651314e-02]\n",
            " [ 8.08452083e-02 -1.45993113e-02  1.65247054e-02 -1.67574213e-02\n",
            "   1.72651314e-02]\n",
            " [ 8.08452083e-02 -1.45993113e-02  1.65247054e-02 -1.67574213e-02\n",
            "   1.72651314e-02]\n",
            " [ 8.08452083e-02 -1.45993113e-02  1.65247053e-02 -1.67574213e-02\n",
            "   1.72651314e-02]\n",
            " [ 8.08452083e-02 -1.45993113e-02  1.65247054e-02 -1.67574213e-02\n",
            "   1.72651314e-02]\n",
            " [ 8.08452083e-02 -1.45993113e-02  1.65247054e-02 -1.67574213e-02\n",
            "   1.72651314e-02]\n",
            " [ 8.08452083e-02 -1.45993113e-02  1.65247054e-02 -1.67574213e-02\n",
            "   1.72651314e-02]\n",
            " [ 8.08452083e-02 -1.45993113e-02  1.65247054e-02 -1.67574213e-02\n",
            "   1.72651314e-02]\n",
            " [ 8.08452083e-02 -1.45993113e-02  1.65247054e-02 -1.67574213e-02\n",
            "   1.72651314e-02]\n",
            " [ 8.08452083e-02 -1.45993113e-02  1.65247053e-02 -1.67574213e-02\n",
            "   1.72651314e-02]\n",
            " [ 8.08452083e-02 -1.45993113e-02  1.65247054e-02 -1.67574213e-02\n",
            "   1.72651314e-02]\n",
            " [ 8.08452083e-02 -1.45993113e-02  1.65247054e-02 -1.67574213e-02\n",
            "   1.72651314e-02]\n",
            " [ 8.08452083e-02 -1.45993113e-02  1.65247053e-02 -1.67574213e-02\n",
            "   1.72651314e-02]\n",
            " [ 8.08452083e-02 -1.45993113e-02  1.65247054e-02 -1.67574213e-02\n",
            "   1.72651314e-02]\n",
            " [ 8.08452083e-02 -1.45993113e-02  1.65247054e-02 -1.67574213e-02\n",
            "   1.72651314e-02]\n",
            " [ 8.08452083e-02 -1.45993113e-02  1.65247054e-02 -1.67574213e-02\n",
            "   1.72651314e-02]\n",
            " [ 8.08452083e-02 -1.45993113e-02  1.65247054e-02 -1.67574213e-02\n",
            "   1.72651314e-02]\n",
            " [ 8.08452083e-02 -1.45993113e-02  1.65247054e-02 -1.67574213e-02\n",
            "   1.72651314e-02]\n",
            " [ 8.08452083e-02 -1.45993113e-02  1.65247053e-02 -1.67574213e-02\n",
            "   1.72651314e-02]\n",
            " [ 8.08452083e-02 -1.45993113e-02  1.65247054e-02 -1.67574213e-02\n",
            "   1.72651314e-02]\n",
            " [ 8.08452083e-02 -1.45993113e-02  1.65247054e-02 -1.67574213e-02\n",
            "   1.72651314e-02]\n",
            " [ 8.08452083e-02 -1.45993113e-02  1.65247053e-02 -1.67574213e-02\n",
            "   1.72651314e-02]\n",
            " [ 8.08452083e-02 -1.45993113e-02  1.65247054e-02 -1.67574213e-02\n",
            "   1.72651314e-02]\n",
            " [ 8.08452083e-02 -1.45993113e-02  1.65247054e-02 -1.67574213e-02\n",
            "   1.72651314e-02]\n",
            " [ 8.08452083e-02 -1.45993113e-02  1.65247053e-02 -1.67574213e-02\n",
            "   1.72651313e-02]\n",
            " [ 8.08452083e-02 -1.45993113e-02  1.65247054e-02 -1.67574213e-02\n",
            "   1.72651314e-02]\n",
            " [ 8.08452083e-02 -1.45993113e-02  1.65247054e-02 -1.67574213e-02\n",
            "   1.72651314e-02]\n",
            " [ 8.08452083e-02 -1.45993113e-02  1.65247053e-02 -1.67574213e-02\n",
            "   1.72651314e-02]\n",
            " [ 8.08452083e-02 -1.45993113e-02  1.65247054e-02 -1.67574213e-02\n",
            "   1.72651314e-02]\n",
            " [ 8.08452083e-02 -1.45993113e-02  1.65247054e-02 -1.67574213e-02\n",
            "   1.72651314e-02]\n",
            " [ 8.08452083e-02 -1.45993113e-02  1.65247053e-02 -1.67574213e-02\n",
            "   1.72651314e-02]\n",
            " [ 8.08452083e-02 -1.45993113e-02  1.65247054e-02 -1.67574213e-02\n",
            "   1.72651314e-02]\n",
            " [ 8.08452083e-02 -1.45993113e-02  1.65247054e-02 -1.67574213e-02\n",
            "   1.72651314e-02]\n",
            " [ 8.08452083e-02 -1.45993113e-02  1.65247053e-02 -1.67574213e-02\n",
            "   1.72651314e-02]\n",
            " [ 8.08452083e-02 -1.45993113e-02  1.65247054e-02 -1.67574213e-02\n",
            "   1.72651314e-02]\n",
            " [ 8.08452083e-02 -1.45993113e-02  1.65247054e-02 -1.67574213e-02\n",
            "   1.74783147e-02]\n",
            " [ 8.08452083e-02 -1.45993113e-02  1.65247054e-02 -1.67574213e-02\n",
            "   1.55478215e-02]\n",
            " [ 8.08452083e-02 -1.45993113e-02  1.65247054e-02 -1.67574213e-02\n",
            "   1.51380446e-02]\n",
            " [ 8.08452083e-02 -1.45993113e-02  1.65247054e-02 -1.67574213e-02\n",
            "   1.72687829e-02]\n",
            " [ 8.08452083e-02 -1.45993113e-02  1.65247054e-02 -1.67574213e-02\n",
            "   1.71940360e-02]\n",
            " [ 8.08452083e-02 -1.45993113e-02  1.65247054e-02 -1.67574213e-02\n",
            "   1.71788104e-02]\n",
            " [ 8.08452083e-02 -1.45993113e-02  1.65247054e-02 -1.67574213e-02\n",
            "   1.92512868e-02]\n",
            " [ 8.08452083e-02 -1.45993113e-02  1.65247054e-02 -1.67574213e-02\n",
            "   1.44125410e-02]\n",
            " [ 8.08452083e-02 -1.45993113e-02  1.65247054e-02 -1.67574213e-02\n",
            "   1.69110167e-02]\n",
            " [ 8.08452083e-02 -1.45993113e-02  1.65247054e-02 -1.67574213e-02\n",
            "   2.14462837e-02]\n",
            " [ 8.08452083e-02 -1.45993113e-02  1.65247054e-02 -1.67574213e-02\n",
            "  -1.57276925e-02]\n",
            " [ 8.08452083e-02 -1.45993113e-02  1.65247054e-02 -1.67574213e-02\n",
            "   1.31582595e-02]\n",
            " [ 8.08452083e-02 -1.45993113e-02  1.65247054e-02 -1.67799627e-02\n",
            "   3.85283309e-02]\n",
            " [ 8.08452083e-02 -1.45993113e-02  1.65247053e-02 -1.65717866e-02\n",
            "  -4.10076346e-01]\n",
            " [ 8.08452083e-02 -1.45993113e-02  1.65247054e-02 -1.65020410e-02\n",
            "   4.07497113e-02]\n",
            " [ 8.08452083e-02 -1.45993113e-02  1.65247054e-02 -1.67574213e-02\n",
            "  -1.70915557e-02]\n",
            " [ 8.08452083e-02 -1.45993113e-02  1.65247053e-02 -1.67574213e-02\n",
            "  -4.76469006e-01]\n",
            " [ 8.08452083e-02 -1.45993113e-02  1.65247054e-02 -1.67574213e-02\n",
            "   4.22758730e-02]\n",
            " [ 8.08452083e-02 -1.45993113e-02  1.65247054e-02 -1.87048684e-02\n",
            "  -1.86602046e-02]\n",
            " [ 8.08452083e-02 -1.45993113e-02  1.65247053e-02 -1.53418316e-02\n",
            "  -5.39886044e-01]\n",
            " [ 8.08452083e-02 -1.45993113e-02  1.65247054e-02 -1.65855283e-02\n",
            "  -2.04438180e-02]\n",
            " [ 8.08452083e-02 -1.45993113e-02  1.65247054e-02 -2.03216165e-02\n",
            "   3.72171429e-02]\n",
            " [ 8.08452083e-02 -1.45993113e-02  1.65247054e-02  1.25947744e-02\n",
            "  -4.40188696e-01]\n",
            " [ 8.08452083e-02 -1.45993113e-02  1.65247054e-02 -1.31932261e-02\n",
            "  -1.20328256e-02]\n",
            " [ 8.08452083e-02 -1.45993113e-02  1.65247054e-02 -3.81273671e-02\n",
            "  -3.90040814e-02]\n",
            " [ 8.08452083e-02 -1.45993113e-02  1.65247054e-02  4.05806349e-01\n",
            "   2.84048619e-02]\n",
            " [ 8.08452083e-02 -1.45993113e-02  1.65247054e-02 -3.81273671e-02\n",
            "  -3.97133393e-02]\n",
            " [ 8.08452083e-02 -1.45993113e-02  1.65247054e-02  1.86325021e-02\n",
            "   6.46776829e-02]\n",
            " [ 8.08452083e-02 -1.45993113e-02  1.65247054e-02  4.75317700e-01\n",
            "   3.72282672e-02]\n",
            " [ 8.08452083e-02 -1.45993113e-02  1.65247054e-02 -4.21059987e-02\n",
            "  -4.80395611e-02]\n",
            " [ 8.08452083e-02 -1.45993113e-02  1.65247054e-02  2.26111337e-02\n",
            "   7.35983733e-02]\n",
            " [ 8.08452083e-02 -1.45993113e-02  1.65247054e-02  5.44829050e-01\n",
            "   3.91981290e-02]\n",
            " [ 8.08452083e-02 -1.45993113e-02  1.65247054e-02  2.26111337e-02\n",
            "   7.29245391e-02]\n",
            " [ 8.08452083e-02 -1.45993113e-02  2.06455607e-02 -3.79929373e-02\n",
            "  -4.61319853e-02]\n",
            " [ 8.08452083e-02 -1.45993113e-02 -1.71316830e-02  4.45071335e-01\n",
            "   1.84416055e-02]\n",
            " [ 8.08452083e-02 -1.45993113e-02  3.78513632e-02  5.71550131e-03\n",
            "   6.71165640e-02]\n",
            " [ 8.08452083e-02 -1.45993113e-02  3.83631374e-02  4.88022837e-02\n",
            "  -3.55835539e-02]\n",
            " [ 8.08452083e-02 -1.45993113e-02 -4.00852774e-01 -2.51082245e-02\n",
            "   7.57717238e-03]\n",
            " [ 8.08452083e-02 -1.45993113e-02  3.83631374e-02  2.74421179e-02\n",
            "  -2.23835023e-02]\n",
            " [ 8.08452083e-02 -1.45993113e-02 -2.15839152e-02 -7.12422062e-02\n",
            "   5.34431136e-02]\n",
            " [ 8.08452083e-02 -1.45993113e-02 -4.74821787e-01 -2.85437513e-02\n",
            "  -3.05160618e-04]\n",
            " [ 8.08452083e-02 -1.45993113e-02  4.27104416e-02  5.89831708e-02\n",
            "  -4.19164248e-02]\n",
            " [ 8.08452083e-02 -1.45993113e-02 -2.59312194e-02 -8.15054580e-02\n",
            "   6.52473760e-02]\n",
            " [ 8.08452083e-02 -1.45993113e-02 -5.48790799e-01 -3.25731911e-02\n",
            "   1.61717022e-02]\n",
            " [ 8.08452083e-02 -1.45993113e-02 -2.59312194e-02 -8.26536248e-02\n",
            "   6.56906769e-02]\n",
            " [ 8.08452083e-02 -1.45993113e-02  4.27104416e-02  5.54895963e-02\n",
            "  -4.53204362e-02]\n",
            " [ 8.08452083e-02 -1.45993113e-02 -4.74821787e-01 -3.34372462e-05\n",
            "   1.57334358e-02]\n",
            " [ 8.08452083e-02 -1.45993113e-02 -2.15839152e-02 -6.72995059e-02\n",
            "   5.80056683e-02]\n",
            " [ 8.08452083e-02 -2.30674947e-02 -8.76410169e-02  8.42471029e-02\n",
            "  -6.52044385e-02]\n",
            " [ 8.08452083e-02  4.05523836e-01  1.27549055e-02  2.14307567e-02\n",
            "  -6.43512767e-02]\n",
            " [ 8.08452083e-02 -2.30674947e-02 -1.04846819e-01  1.04220571e-01\n",
            "  -7.35403859e-02]\n",
            " [ 8.08452083e-02  5.22426219e-02  2.24503425e-02 -8.83384023e-03\n",
            "  -1.46545818e-02]\n",
            " [ 8.08452083e-02  4.85450596e-01 -1.38093642e-02  6.72422757e-03\n",
            "   1.29649802e-02]\n",
            " [ 8.08452083e-02 -2.76841386e-02 -9.72554347e-02  9.76778009e-02\n",
            "  -8.12964683e-02]\n",
            " [ 8.08452083e-02  5.68592658e-02  3.61856156e-02 -2.26658562e-02\n",
            "  -6.09133452e-03]\n",
            " [ 8.08452083e-02  5.65377356e-01 -6.71724557e-03 -1.25786476e-02\n",
            "   3.54843234e-02]\n",
            " [ 8.08452083e-02  5.68592658e-02  3.61856156e-02 -2.26658562e-02\n",
            "  -5.53230882e-03]\n",
            " [ 8.08452083e-02 -2.76841386e-02 -9.72554347e-02  9.76778009e-02\n",
            "  -7.97295042e-02]\n",
            " [ 8.08452083e-02  4.85450596e-01 -1.38093642e-02  6.72422757e-03\n",
            "  -7.50503429e-05]\n",
            " [ 8.08452083e-02  5.22426219e-02  2.24503425e-02 -6.74950275e-03\n",
            "  -2.18723637e-02]]\n"
          ]
        }
      ]
    },
    {
      "cell_type": "code",
      "source": [
        "m2 = 10\n",
        "h2, q2 = Arnoldi_Algorithm(mat, V, m2)\n",
        "eigs = eigh_tridiagonal(np.diag(h2), np.diag(h2,k=-1), eigvals_only=True)\n",
        "x = np.arange(len(eigs))\n",
        "plt.scatter(x, eigs)\n",
        "plt.show()\n",
        "\n",
        "print(\"H is:\")\n",
        "print(h2)\n",
        "print(\"Q is\")\n",
        "print(q2)"
      ],
      "metadata": {
        "colab": {
          "base_uri": "https://localhost:8080/",
          "height": 1000
        },
        "id": "RnhvQA8znw2s",
        "outputId": "b485710e-39d1-45a9-9caa-3614274ad3a3"
      },
      "execution_count": 21,
      "outputs": [
        {
          "output_type": "display_data",
          "data": {
            "text/plain": [
              "<Figure size 432x288 with 1 Axes>"
            ],
            "image/png": "[encoded data removed]"
          },
          "metadata": {
            "needs_background": "light"
          }
        },
        {
          "output_type": "stream",
          "name": "stdout",
          "text": [
            "H is:\n",
            "[[ 2.10098768e+04  1.16344383e+05 -4.72937245e-11  1.65300662e-10\n",
            "  -1.20962795e-10  1.36424205e-11 -1.18234311e-10  2.06455297e-10\n",
            "  -8.18545232e-11  9.64064384e-11]\n",
            " [ 1.16344383e+05  1.45571430e+06  7.16898734e+05  7.98536348e-10\n",
            "  -1.32604328e-09  1.78806658e-09 -2.24963514e-09  2.60661182e-09\n",
            "  -2.97768565e-09  3.29237082e-09]\n",
            " [ 0.00000000e+00  7.16898734e+05  1.93461798e+06  1.28317860e+06\n",
            "  -1.76987669e-09  2.41016096e-09 -3.15776560e-09  3.69050213e-09\n",
            "  -4.19913704e-09  4.70299710e-09]\n",
            " [ 0.00000000e+00  0.00000000e+00  1.28317860e+06  2.61981399e+06\n",
            "   1.31462531e+06  1.52203938e-09 -1.97451300e-09  2.31102604e-09\n",
            "  -2.64344635e-09  2.92129698e-09]\n",
            " [ 0.00000000e+00  0.00000000e+00  0.00000000e+00  1.31462531e+06\n",
            "   2.92254262e+06  1.57661223e+06 -1.98315320e-09  2.85399437e-09\n",
            "  -3.75166564e-09  4.68753569e-09]\n",
            " [ 0.00000000e+00  0.00000000e+00  0.00000000e+00  0.00000000e+00\n",
            "   1.57661223e+06  3.24651594e+06  1.62514649e+06  6.69751898e-09\n",
            "  -1.00299076e-08  1.32931746e-08]\n",
            " [ 0.00000000e+00  0.00000000e+00  0.00000000e+00  0.00000000e+00\n",
            "   0.00000000e+00  1.62514649e+06  3.34532144e+06  1.77963845e+06\n",
            "  -9.56060831e-09  1.30312401e-08]\n",
            " [ 0.00000000e+00  0.00000000e+00  0.00000000e+00  0.00000000e+00\n",
            "   0.00000000e+00  0.00000000e+00  1.77963845e+06  3.24760714e+06\n",
            "   1.50567789e+06  4.94765118e-09]\n",
            " [ 0.00000000e+00  0.00000000e+00  0.00000000e+00  0.00000000e+00\n",
            "   0.00000000e+00  0.00000000e+00  0.00000000e+00  1.50567789e+06\n",
            "   2.92931078e+06  1.44349653e+06]\n",
            " [ 0.00000000e+00  0.00000000e+00  0.00000000e+00  0.00000000e+00\n",
            "   0.00000000e+00  0.00000000e+00  0.00000000e+00  0.00000000e+00\n",
            "   1.44349653e+06  2.95228305e+06]]\n",
            "Q is\n",
            "[[ 0.08084521 -0.01459931  0.01652471 ... -0.01975948  0.01984178\n",
            "  -0.01965459]\n",
            " [ 0.08084521 -0.01459931  0.01652471 ... -0.01975948  0.01984178\n",
            "  -0.01965459]\n",
            " [ 0.08084521 -0.01459931  0.01652471 ... -0.01975948  0.01984178\n",
            "  -0.01965459]\n",
            " ...\n",
            " [ 0.08084521 -0.02768414 -0.09725543 ...  0.00756495  0.00936466\n",
            "  -0.01244312]\n",
            " [ 0.08084521  0.4854506  -0.01380936 ... -0.01838162  0.00968795\n",
            "  -0.00188256]\n",
            " [ 0.08084521  0.05224262  0.02245034 ...  0.09257103 -0.09674654\n",
            "   0.08301574]]\n"
          ]
        }
      ]
    },
    {
      "cell_type": "code",
      "source": [
        "m3 = 50\n",
        "h3, q3 = Arnoldi_Algorithm(mat, V, m3)\n",
        "eigs = eigh_tridiagonal(np.diag(h3), np.diag(h3,k=-1), eigvals_only=True)\n",
        "x = np.arange(len(eigs))\n",
        "plt.scatter(x, eigs)\n",
        "plt.show()\n",
        "\n",
        "print(\"H is:\")\n",
        "print(h3)\n",
        "print(\"Q is\")\n",
        "print(q3)"
      ],
      "metadata": {
        "colab": {
          "base_uri": "https://localhost:8080/",
          "height": 762
        },
        "id": "8K04MfDvn4mD",
        "outputId": "1a32d879-2e12-4d56-8910-d51bacbfd0da"
      },
      "execution_count": 22,
      "outputs": [
        {
          "output_type": "display_data",
          "data": {
            "text/plain": [
              "<Figure size 432x288 with 1 Axes>"
            ],
            "image/png": "[encoded data removed]"
          },
          "metadata": {
            "needs_background": "light"
          }
        },
        {
          "output_type": "stream",
          "name": "stdout",
          "text": [
            "H is:\n",
            "[[ 2.10098768e+04  1.16344383e+05 -4.72937245e-11 ...  1.76078174e-09\n",
            "  -2.31375452e-09  2.55386112e-09]\n",
            " [ 1.16344383e+05  1.45571430e+06  7.16898734e+05 ...  4.15311661e-08\n",
            "  -5.50317054e-08  5.88770490e-08]\n",
            " [ 0.00000000e+00  7.16898734e+05  1.93461798e+06 ...  3.97412805e-08\n",
            "  -5.35437721e-08  5.81685526e-08]\n",
            " ...\n",
            " [ 0.00000000e+00  0.00000000e+00  0.00000000e+00 ...  1.87506092e+06\n",
            "   1.00931299e+06  4.36557457e-11]\n",
            " [ 0.00000000e+00  0.00000000e+00  0.00000000e+00 ...  1.00931299e+06\n",
            "   1.74133620e+06  9.14124564e+05]\n",
            " [ 0.00000000e+00  0.00000000e+00  0.00000000e+00 ...  0.00000000e+00\n",
            "   9.14124564e+05  1.25533750e+06]]\n",
            "Q is\n",
            "[[ 0.08084521 -0.01459931  0.01652471 ... -0.0063267  -0.0315809\n",
            "   0.01462079]\n",
            " [ 0.08084521 -0.01459931  0.01652471 ... -0.04617225 -0.00238881\n",
            "   0.09420752]\n",
            " [ 0.08084521 -0.01459931  0.01652471 ...  0.01105528 -0.03622259\n",
            "   0.05384726]\n",
            " ...\n",
            " [ 0.08084521 -0.02768414 -0.09725543 ...  0.02626918  0.02288452\n",
            "  -0.06136941]\n",
            " [ 0.08084521  0.4854506  -0.01380936 ... -0.20018201 -0.02777799\n",
            "   0.2116154 ]\n",
            " [ 0.08084521  0.05224262  0.02245034 ... -0.04999619  0.00136241\n",
            "   0.0369639 ]]\n"
          ]
        }
      ]
    },
    {
      "cell_type": "code",
      "source": [
        "\n"
      ],
      "metadata": {
        "id": "Colzdv7WoGFo"
      },
      "execution_count": 6,
      "outputs": []
    },
    {
      "cell_type": "markdown",
      "source": [
        "### Bonus: GMRES\n",
        "\n",
        "Let $A$ be a given $n \\times n$ matrix. \n",
        "The input for GMRES:\n",
        "\n",
        "- matrix $A$\n",
        "- r.h.s. $\\mathbf b$\n",
        "- initial iterate $\\mathbf x_0$ (typical values: either zero, or random)\n",
        "- *max_iter*, the maximal number of iterations allowed (typical values are 100, 1000)\n",
        "- tolerance $\\epsilon$ (typical; values are $10^{-6}$, $10^{-9}$)\n",
        "\n",
        "The output of the algorithm is $\\mathbf x$ the approximate solution, $iter$ - number of iterations used, $\\|\\mathbf r_0\\|, \\|\\mathbf r\\|$ - norm of the initial and  final residuals, and perhaps CPU time.\n",
        "\n",
        "\n",
        "\n",
        "- Input: GMRES$(A, \\mathbf b, \\mathbf x_0, m, \\mathbf x_0, \\epsilon, \\text{max_iter})$.\n",
        "\n",
        "- Output $\\mathbf x, \\|\\mathbf r\\|, \\|\\mathbf r_0\\|, \\text{iter}, \\text{time}$.\n",
        "\n",
        "#### Algorithm\n",
        "\n",
        "- Initiate:\n",
        "  - $\\mathbf r_0 = \\mathbf b - A \\mathbf x_0$, $\\delta_0 = \\|\\mathbf r_0\\|$.\n",
        "  - $\\mathbf r = \\mathbf r_0$, $\\mathbf x=\\mathbf x_0$.\n",
        "\n",
        "  - Loop: For $iter$ from $0$ to max_iter:\n",
        "    - $P, H = \\text{Arnoldi}(A, \\mathbf r, m)$\n",
        "    - $B = AP$.\n",
        "    - $Q, R= \\text{QR}(B)$.\n",
        "    - $\\mathbf z = Q^T\\mathbf r$\n",
        "    - $\\mathbf \\alpha = \\text{upper\\_triangual\\_solve}(R, \\mathbf z)$\n",
        "    - $\\mathbf x+=P\\mathbf \\alpha$\n",
        "    - $\\mathbf r -= B \\mathbf \\alpha$.\n",
        "    - $\\delta= \\|\\mathbf r\\|$\n",
        "    - If $\\delta < \\epsilon \\delta_0$:\n",
        "      - return $\\mathbf x, \\|\\mathbf r\\|, \\|\\mathbf r_0\\|, \\text{iter}$ (and CPU time).\n",
        "\n",
        "#### Analysis\n",
        "Run on all of the sparse matrices `*.mtx` from the data folder and plot iteration (or run-time) on x-axis and relative residual norm on y-axis."
      ],
      "metadata": {
        "id": "HjAAJXBe9eww"
      }
    },
    {
      "cell_type": "code",
      "source": [],
      "metadata": {
        "id": "zRMhOoWO4Rlx"
      },
      "execution_count": null,
      "outputs": []
    },
    {
      "cell_type": "markdown",
      "source": [
        "#### Report\n",
        "\n",
        "Make a few comments about each plot you generated. For Arnoldi, note which eigenvalues get better convergence and how well the algorithm works on different matrices (try with sparse/dense/large/small/etc).\n",
        "\n",
        "Describe the algorithm and what each step is doing."
      ],
      "metadata": {
        "id": "iwLQwn-_ceI-"
      }
    }
  ]
}