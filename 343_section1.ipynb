{
  "nbformat": 4,
  "nbformat_minor": 0,
  "metadata": {
    "colab": {
      "provenance": [],
      "collapsed_sections": []
    },
    "kernelspec": {
      "name": "python3",
      "display_name": "Python 3"
    },
    "language_info": {
      "name": "python"
    }
  },
  "cells": [
    {
      "cell_type": "markdown",
      "source": [
        "# Section 0: Lab structure and expectations\n",
        "\n",
        "Welcome to your MTH343 applied linear algebra code notebook! This notebook contains background information, class exercises, and homework assignments for the term. In the exercise and homework sections, there are comments specifying where you are expected to fill in the code to complete the activity.\n",
        "\n",
        "My name is Austen and I'm the TA for the class and author of this notebook.\n",
        "\n",
        "*   email - ajn6@pdx.edu\n",
        "*   office - 460E\n",
        "*   discord - if there is a student made class discord you want me to join then let me know and I will. I will probably notice email first for help privately but it can be helpful to other students if you're willing to ask for help publicly"
      ],
      "metadata": {
        "id": "FWXuSENERAkZ"
      }
    },
    {
      "cell_type": "markdown",
      "source": [
        "\n",
        "## Notebook Structure\n",
        "\n",
        "Much of the notebook is explanation and examples. I encourage you to interact with and change the code I have written in these sections. Throughout the notebook you will be expected to add code and text responses in exercise, homework, and final project sections. Sometimes I have completed part of the code and you just need to fill in the missing part. Any places you need to add code should contain a comment like:\n",
        "\n",
        "```python3\n",
        "# Your code here\n",
        "```\n",
        "\n",
        "__Exercise sections__ should ideally be completed in the provided class working time or in office hours with me (Austen the TA). You are encouraged to work together on these exercises. Grading will be completion based and there is no expectation that your code be any different from other class members. There are exercises for each of the 6 sections of content, some more involved than others.\n",
        "\n",
        "__Homework sections__ can be worked on in class but try to do most of it on your own. Discussing solutions and algorithms or helping each other debug code is encouraged but please try not copy other student's solutions for these sections. There are 4 homework found in sections 1, 2, 3 and 4. There are no due dates for the individual homework but you will be expected to check in your work in the lab book at the time of the midterm. The lab notebooks will be due the Friday of finals week.\n",
        "\n",
        "The __Final Project__ section is an application of multiple topics from throughout the term. This is the largest code you will write and preferably getting help with your code on this project will happen in office hours or through email or discord correspondence with me. It should be implemented as part of this notebook at the end and is due with the rest of the notebook on the Friday of finals week.\n"
      ],
      "metadata": {
        "id": "34d9XyxSVqtB"
      }
    },
    {
      "cell_type": "markdown",
      "source": [
        "\n",
        "## Office hours and notebook progress\n",
        "\n",
        "I have a class starting 30 minutes into this meeting time so our tentative plan is to spend this time in lecture working on this notebook. I will be holding office hours for the hour before class (4:00-4:40 M/W LH 249) where I will be available to answer questions and help with code.\n",
        "\n",
        "I understand there are many of you with limited python experience and this class will be a lot of new information, so utilizing office hours and in-class work time is important. If the scheduled times don't work I am on campus often, feel free to schedule a meeting time or just come see if my office door is open.\n"
      ],
      "metadata": {
        "id": "NPyJGyOjVs5L"
      }
    },
    {
      "cell_type": "markdown",
      "source": [
        "\n",
        "## Combining the theory with practice\n",
        "\n",
        "This notebook is far from complete. It is expected you use notes and algorithms presented in class when completing the activities. The activities generally follow the topics you will be covering in lecture but that doesn't mean you can't work ahead for a challenge."
      ],
      "metadata": {
        "id": "LmFy3nW8Vvu1"
      }
    },
    {
      "cell_type": "markdown",
      "source": [
        "## Expected Background Knowledge\n",
        "\n",
        "I'm assuming that everyone is comfortable with conceptual programming topics like variables, basic types (i.e. int, float, string), control flow (i.e. loops, if-else), and functions. If this isn't the case we might need to step back and review these in the first week of class.\n",
        "\n",
        "It would also be helpful but not critical to have an idea of objects and classes and have some experience using them. We will be heavily interacting with the `numpy.ndarray` and `scipy.sparse.csr_array` classes but we shouldn't need to declare or create any classes of our own.\n",
        "\n",
        "Knowledge of different common Python data-structures like lists, tuples, dicts (maps), and sets will be helpful but a simple examples of their usage is provided when introduced."
      ],
      "metadata": {
        "id": "ItrBPvSVWShC"
      }
    },
    {
      "cell_type": "markdown",
      "source": [
        "## Recipe For Success\n",
        "\n",
        "There are a couple of suggestions I can give for suceeding when learning to code or learning new languages.\n",
        "\n",
        "The first is applicable to most learning, code in shorter intervals more often. Coding or studying for 30 minutes a day is better than coding all day once a week. Notice that this suggestion requires you start the homework before the due date... When you keep the material in your subconscious you will solve problems and have breakthroughs at the strangest times. I've solved some of the most difficult problems I have worked on when waking up in the middle of the night, but I rarely solve something if I have been working on it the last 6 hours.\n",
        "\n",
        "The second is to get help if you are stuck or convinced that your code is correct. 'Rubber duck debugging' is very real and explaining your code to someone else often breaks the functional fixedness that is hiding something in plain sight. It is expected that you will require help to get through this class and notebook. A small part of class time is dedicated to this but email and office hours will also be key tools you are expected to utilize. If the office hour times do not work for your schedule make sure to schedule some!"
      ],
      "metadata": {
        "id": "gXUUSKGUZ5tb"
      }
    },
    {
      "cell_type": "markdown",
      "source": [
        "# Section 1: Introduction to `colab`, `numpy` and `scipy`\n",
        "\n",
        "## Google Colab\n",
        "\n",
        "Google Colab is part of the Goolge Workspace that is pretty much a Google Docs for code. Colab essentially sets up a virtual machine with a development environment with batteries included. The paid version of Colab can give you to more CPU, memory, and even GPU resources if you would like to run computationally demanding codes.\n",
        "\n",
        "Because Colab is a cloud based service, you will have to be connected to the internet to edit and run notebooks.\n",
        "\n",
        "The tool that Colab is built on top of is called Jupyter Notebook. Jupyter is a widely used interactive notebook that provides a modular system for editing, documenting and running code. Jupyter is a commonly used tool in the data science industry, primarily because it is nice for documenting and collaborating.\n",
        "\n",
        "Jupyter has a full markdown integration in the text blocks as well as a powerful `latex` (pronounced 'lah-tek or lay-tek') integration. In this notebook you will see me use `latex` commands such as:\n",
        "\n",
        "$ Ax = b \\quad x,b \\in \\mathbb{R}^n \\quad A \\in \\mathbb{R}^{nxn}$\n",
        "\n",
        "As noted in the next section I am not requiring you use Colab. I know that if you are more familiar and configured with another editor or IDE that you would prefer to use that. Colab greatly simplifies the setup and boilerplate required for getting started in this class, though.\n",
        "\n",
        "### But Jupyter is Trash\n",
        "\n",
        "I know, I also much prefer using other editors to Jupyter notebooks. When coding examples in class or office hours I probably wont use Jupyter or Colab because I'm a pretentious `vim` purest.\n",
        "\n",
        "I'm not requiring you use this notebook at all if you would like to use an editor or IDE of choice.\n",
        "\n",
        "If you want help setting up a development environment I can assist with that, but if you turn in your exercises and homework in `.py` format I will expect a `requirements.txt` so I can quickly create a virtual environment for your work.\n",
        "\n",
        "Create a separate file for each exercise section, homework, and final project each with a main function that runs all the code for the activity and the\n",
        "```python3\n",
        "if __name__ == \"__main__\":\n",
        "  main()\n",
        "```\n",
        "block included at the bottom of each file. The outputs to the terminal and plots produced by the running the main function should describe the findings and results from the activity.\n",
        "\n",
        "Lastly, when turning in all these files please put each `.py` and the `requirements.txt` into a folder and archive it like:\n",
        "\n",
        " `<name>_mth343-activities.tar`.\n",
        "\n",
        "If you decide to use the notebook, submitting the link to the shared notebook is fine.\n",
        "\n",
        "## `numpy` and `scipy`\n",
        "\n",
        "These are the primary software libraries we will be using throughout the term. It isn't expected you have any experience with these libraries and I try to provide examples of how to use the application programming interface (API) before you are expected to use it yourself. The only way to learn how to use an API is to practice regularly.\n",
        "\n",
        "Using `numpy` and `scipy` we can do a lot. Matrix multiplication, transpose, inverse, decomposition, and much more are available.\n",
        "\n",
        "Check out the getting started guides for a lengthy introduction and get used to utilizing the API reference to learn how to use new functions:\n",
        "\n",
        "`numpy`: [getting started guide](https://numpy.org/doc/stable/user/absolute_beginners.html) and [API reference](https://numpy.org/doc/stable/reference/index.html#reference)\n",
        "\n",
        "`scipy`: [getting started guide](https://docs.scipy.org/doc/scipy/getting_started.html#getting-started-ref) and [API reference](https://docs.scipy.org/doc/scipy/reference/)\n",
        "\n",
        "For the first couple weeks of activities we will be using these libraries mostly to check that our code is correct. Later in the term (week 3) feel free to use the library routines unless it is the direct routine you are implementing (ie. if the assignment is to implement `GMRES` don't use `scipy`'s `GMRES` function).\n",
        "\n",
        "These libraries are widely used and very mature. In the code examples below, I show some basic usage of the utilities provided but I have hardly scratched the surface. Reading the docs, guides/tutorials, and other developer's code on github are great ways to learn new tricks.\n",
        "\n",
        "## Visualization\n",
        "\n",
        "Data visualization is an important part of data exploration and analysis and will be a small part of this course. We will mostly use `matplotlib` for simple plotting but I will provide some `plotly` code when we would like to have an interactive 3d plot. For one of the homework and the final project you are asked to plot something similar to what is shown in the examples."
      ],
      "metadata": {
        "id": "RsPbbf2tURdH"
      }
    },
    {
      "cell_type": "markdown",
      "source": [
        "## Loading data into `colab`\n",
        "\n",
        "One of the first things we will need to do is load data into our code from external files. Matrix data comes in many different forms depending on the source and structure of the matrix.\n",
        "\n",
        "Start by adding the [shared data folder](https://drive.google.com/drive/folders/1b7jMz1UZ9L5FZPvN_ZG5Hw96bHRCzkht?usp=sharing) to your google drive:\n",
        "\n",
        "If you don't want to connect Colab to your drive you can upload the files directly into the colab runtime each session. Be careful you trust a notebook before connecting it to your drive, you can read through the code here and see I'm not deleting or downloading your entire Drive."
      ],
      "metadata": {
        "id": "1OsAzVSZEaYl"
      }
    },
    {
      "cell_type": "code",
      "execution_count": null,
      "metadata": {
        "id": "su8PzK8cqJZA",
        "colab": {
          "base_uri": "https://localhost:8080/"
        },
        "outputId": "938cb406-4667-478f-e8de-abbf4e40ef49"
      },
      "outputs": [
        {
          "output_type": "stream",
          "name": "stdout",
          "text": [
            "Mounted at /content/drive\n"
          ]
        }
      ],
      "source": [
        "from google.colab import drive\n",
        "\n",
        "drive.mount('/content/drive')\n",
        "# NOTE: change this to the folder in your drive with the data\n",
        "folder = 'drive/MyDrive/MTH343/matrices'"
      ]
    },
    {
      "cell_type": "code",
      "source": [
        "from google.colab import drive\n",
        "drive.mount('/content/drive')"
      ],
      "metadata": {
        "id": "zIpL6hyCe7kW",
        "colab": {
          "base_uri": "https://localhost:8080/"
        },
        "outputId": "e194ff4f-cd2c-4b7b-9015-d92882163e38"
      },
      "execution_count": null,
      "outputs": [
        {
          "output_type": "stream",
          "name": "stdout",
          "text": [
            "Drive already mounted at /content/drive; to attempt to forcibly remount, call drive.mount(\"/content/drive\", force_remount=True).\n"
          ]
        }
      ]
    },
    {
      "cell_type": "markdown",
      "source": [
        "Once the folder is loaded we can use `scipy` to load matrix market format files. This format is used to store sparse and dense matrices, `scipy` will return the type of object encoded in the file."
      ],
      "metadata": {
        "id": "4cWXIWbnMydx"
      }
    },
    {
      "cell_type": "code",
      "source": [
        "from scipy.io import mmread\n",
        "\n",
        "# here I use a format string or f-string denoted by the f'<string>{<eval>}'\n",
        "matrix = mmread(f'{folder}/bcsstk02.mtx')\n",
        "type(matrix)"
      ],
      "metadata": {
        "id": "one0Lr5IMYXj",
        "colab": {
          "base_uri": "https://localhost:8080/"
        },
        "outputId": "581b22d2-5d34-44c2-c20f-04ac33d2dbfd"
      },
      "execution_count": null,
      "outputs": [
        {
          "output_type": "execute_result",
          "data": {
            "text/plain": [
              "scipy.sparse.coo.coo_matrix"
            ]
          },
          "metadata": {},
          "execution_count": 24
        }
      ]
    },
    {
      "cell_type": "markdown",
      "source": [
        "Here we can see that `scipy` loaded a sparse matrix in `coo` format, more about that later.\n",
        "\n",
        "Another common practice for serializing and deserializing python objects is using the `pickle` module. `numpy` uses `pickle` in its built in save and load functions."
      ],
      "metadata": {
        "id": "uDdpmBvQNpqg"
      }
    },
    {
      "cell_type": "code",
      "source": [
        "import numpy as np\n",
        "\n",
        "matrix = np.load(f'{folder}/100_orthonormal.npy')\n",
        "type(matrix)"
      ],
      "metadata": {
        "id": "A-yJpXaSPGEV",
        "colab": {
          "base_uri": "https://localhost:8080/"
        },
        "outputId": "a14d2ba0-3a76-48ec-aa60-56d50e3415f8"
      },
      "execution_count": null,
      "outputs": [
        {
          "output_type": "execute_result",
          "data": {
            "text/plain": [
              "numpy.ndarray"
            ]
          },
          "metadata": {},
          "execution_count": 25
        }
      ]
    },
    {
      "cell_type": "markdown",
      "source": [
        "## Matrix and Vector generation"
      ],
      "metadata": {
        "id": "ki58RQoqHNrg"
      }
    },
    {
      "cell_type": "code",
      "source": [
        "# we can also generate random matrices with numpy\n",
        "matrix = np.random.rand(5, 5)\n",
        "print(matrix)\n",
        "print(f'The shape of the matrix is: {matrix.shape}\\n')\n",
        "\n",
        "# take note of how these three are subtly different,\n",
        "# both will behave in very different ways.\n",
        "# we will explore reshaping in the next section\n",
        "vector1 = np.random.rand(5, 1)     # column vector\n",
        "vector2 = np.random.rand(5)        # 'true' vector\n",
        "vector3 = np.random.rand(1, 5)     # row vector\n",
        "print(vector1)\n",
        "print(f'The shape of the vector1 is: {vector1.shape} with {vector1.ndim} dimension \\n')\n",
        "print(vector2)\n",
        "print(f'The shape of the vector2 is: {vector2.shape} with {vector2.ndim} dimension \\n')\n",
        "print(vector3)\n",
        "print(f'The shape of the vector3 is: {vector3.shape} with {vector3.ndim} dimension \\n')\n",
        "\n",
        "# other useful generation functions:\n",
        "ones = np.ones((2, 2))\n",
        "print(ones)\n",
        "print('ones\\n')\n",
        "zeros = np.zeros((4,3))\n",
        "print(zeros)\n",
        "print('zeros\\n')\n",
        "sequence = np.arange(12)\n",
        "print(sequence)\n",
        "print('sequence\\n')\n",
        "eye = np.eye(5)\n",
        "print(eye)\n",
        "print('eye\\n')"
      ],
      "metadata": {
        "id": "qSD2CrUeULYy",
        "colab": {
          "base_uri": "https://localhost:8080/"
        },
        "outputId": "eba707e8-fc9f-46db-ffe2-d13fc7ae1510"
      },
      "execution_count": null,
      "outputs": [
        {
          "output_type": "stream",
          "name": "stdout",
          "text": [
            "[[0.58397433 0.03054546 0.33767534 0.01210203 0.97263786]\n",
            " [0.36633851 0.63604215 0.50475716 0.78898634 0.10491808]\n",
            " [0.88204275 0.62693786 0.85623631 0.78235739 0.72559565]\n",
            " [0.03083492 0.71529448 0.46708278 0.185656   0.96061919]\n",
            " [0.77843471 0.21568669 0.30660083 0.50376684 0.27619591]]\n",
            "The shape of the matrix is: (5, 5)\n",
            "\n",
            "[[0.22263263]\n",
            " [0.81737964]\n",
            " [0.05589469]\n",
            " [0.26265203]\n",
            " [0.09891202]]\n",
            "The shape of the vector1 is: (5, 1) with 2 dimension \n",
            "\n",
            "[0.24856341 0.7963721  0.44269583 0.4631577  0.08644547]\n",
            "The shape of the vector2 is: (5,) with 1 dimension \n",
            "\n",
            "[[0.74983395 0.14413032 0.73333155 0.869611   0.30126199]]\n",
            "The shape of the vector3 is: (1, 5) with 2 dimension \n",
            "\n",
            "[[1. 1.]\n",
            " [1. 1.]]\n",
            "ones\n",
            "\n",
            "[[0. 0. 0.]\n",
            " [0. 0. 0.]\n",
            " [0. 0. 0.]\n",
            " [0. 0. 0.]]\n",
            "zeros\n",
            "\n",
            "[ 0  1  2  3  4  5  6  7  8  9 10 11]\n",
            "sequence\n",
            "\n",
            "[[1. 0. 0. 0. 0.]\n",
            " [0. 1. 0. 0. 0.]\n",
            " [0. 0. 1. 0. 0.]\n",
            " [0. 0. 0. 1. 0.]\n",
            " [0. 0. 0. 0. 1.]]\n",
            "eye\n",
            "\n"
          ]
        }
      ]
    },
    {
      "cell_type": "markdown",
      "source": [
        "## Basic Linear Algebra Routines and Array Manipulation\n"
      ],
      "metadata": {
        "id": "_vuKCDPFIPlN"
      }
    },
    {
      "cell_type": "code",
      "source": [
        "matrix = np.random.rand(3, 3)\n",
        "vector = np.random.rand(3)\n",
        "\n",
        "# transpose a matrix three ways\n",
        "print('original:')\n",
        "print(matrix)\n",
        "print('option 1:')\n",
        "print(matrix.T)\n",
        "print('option 2:')\n",
        "print(np.transpose(matrix))\n",
        "print('option 3:')\n",
        "print(matrix.transpose())\n",
        "\n",
        "# we can take the product of two numpy arrays in two ways\n",
        "product_1 = matrix @ vector\n",
        "product_2 = matrix.dot(vector)\n",
        "zeros = product_1 - product_2\n",
        "print('\\nshould be zeros:')\n",
        "print(zeros)\n",
        "\n",
        "# reshape and concat the two equivelent results\n",
        "concat = np.concatenate((product_1.reshape((3,1)), product_2.reshape((3,1))), axis=1)\n",
        "print(concat)\n",
        "print(f'The shape of concat is: {concat.shape}\\n')\n",
        "# instead of reshape then concat we could use `stack`\n",
        "stack = np.stack([product_1, product_2])\n",
        "print(stack)\n",
        "print(f'The shape of stack is: {stack.shape}\\n')\n",
        "stack = np.stack([product_1, product_2], axis=-1)\n",
        "print(stack)\n",
        "print(f'The shape of stack with axis=-1 is: {stack.shape}\\n')\n",
        "\n",
        "# notice that the * operator is not matrix multiplication...\n",
        "# if the shapes of the left and right side are the same,\n",
        "# then * does a strictly element-wise multiplicaton\n",
        "product = product_1 * product_2\n",
        "print('squared product:')\n",
        "print(product)"
      ],
      "metadata": {
        "id": "ty4IR8iEHr_K",
        "colab": {
          "base_uri": "https://localhost:8080/"
        },
        "outputId": "bc7e2ee2-502d-48cd-d224-f1e0654f9ab8"
      },
      "execution_count": null,
      "outputs": [
        {
          "output_type": "stream",
          "name": "stdout",
          "text": [
            "original:\n",
            "[[0.17157216 0.56214939 0.83046665]\n",
            " [0.52802168 0.00515052 0.05698724]\n",
            " [0.24654588 0.82048872 0.4730209 ]]\n",
            "option 1:\n",
            "[[0.17157216 0.52802168 0.24654588]\n",
            " [0.56214939 0.00515052 0.82048872]\n",
            " [0.83046665 0.05698724 0.4730209 ]]\n",
            "option 2:\n",
            "[[0.17157216 0.52802168 0.24654588]\n",
            " [0.56214939 0.00515052 0.82048872]\n",
            " [0.83046665 0.05698724 0.4730209 ]]\n",
            "option 3:\n",
            "[[0.17157216 0.52802168 0.24654588]\n",
            " [0.56214939 0.00515052 0.82048872]\n",
            " [0.83046665 0.05698724 0.4730209 ]]\n",
            "\n",
            "should be zeros:\n",
            "[0. 0. 0.]\n",
            "[[1.03124514 1.03124514]\n",
            " [0.17833465 0.17833465]\n",
            " [1.03353654 1.03353654]]\n",
            "The shape of concat is: (3, 2)\n",
            "\n",
            "[[1.03124514 0.17833465 1.03353654]\n",
            " [1.03124514 0.17833465 1.03353654]]\n",
            "The shape of stack is: (2, 3)\n",
            "\n",
            "[[1.03124514 1.03124514]\n",
            " [0.17833465 0.17833465]\n",
            " [1.03353654 1.03353654]]\n",
            "The shape of stack with axis=-1 is: (3, 2)\n",
            "\n",
            "squared product:\n",
            "[1.06346653 0.03180325 1.06819779]\n"
          ]
        }
      ]
    },
    {
      "cell_type": "markdown",
      "source": [
        "### A note about shapes and broadcasting\n",
        "\n",
        "If the shapes don't match like in the block below, [(3,3) * (3,)], `numpy` recognizes that the first dimension matches and broadcasts the product across the other dimensions.\n",
        "\n",
        "This is extremely powerful but is also the cause of many headaches for new users\n",
        "of numpy. Often the code runs and does something different because of the \n",
        "implicit broadcast, where you would have wanted it to crash for a dimension\n",
        "mismatch. Checking the dimensions of your arrays is a solid first step to debugging your `numpy` codes."
      ],
      "metadata": {
        "id": "klZ3IJj7RV7q"
      }
    },
    {
      "cell_type": "code",
      "source": [
        "broadcast = matrix * vector\n",
        "print('Broadcasted elementwise multiplication:')\n",
        "print(broadcast)"
      ],
      "metadata": {
        "id": "uGGCpoHVRYSz",
        "colab": {
          "base_uri": "https://localhost:8080/"
        },
        "outputId": "02d2cebb-b8b3-4318-e5c5-9e9ff4c85167"
      },
      "execution_count": null,
      "outputs": [
        {
          "output_type": "stream",
          "name": "stdout",
          "text": [
            "Broadcasted elementwise multiplication:\n",
            "[[0.04479383 0.4576564  0.5287949 ]\n",
            " [0.13785521 0.00419314 0.0362863 ]\n",
            " [0.06436788 0.66797531 0.30119336]]\n"
          ]
        }
      ]
    },
    {
      "cell_type": "markdown",
      "source": [
        "## Slicing and Indexing\n",
        "\n",
        "One of the most common manipulations on `numpy` arrays is slicing. Slicing allows you to access a portion of the array."
      ],
      "metadata": {
        "id": "R_37sCNMZFhc"
      }
    },
    {
      "cell_type": "code",
      "source": [
        "matrix = np.random.rand(3, 3)\n",
        "print('original matrix:')\n",
        "print(matrix)\n",
        "print()\n",
        "\n",
        "print('the first column:')\n",
        "print(matrix[:,1])\n",
        "\n",
        "print('\\nthe first two rows:')\n",
        "print(matrix[:2, :])\n",
        "\n",
        "print(f'\\nthe element in the bottom right corner: {matrix[-1,-1]}')\n",
        "print(f'\\nthe middle element: {matrix[1,1]}')"
      ],
      "metadata": {
        "id": "pFyQHnZEZSVl",
        "colab": {
          "base_uri": "https://localhost:8080/"
        },
        "outputId": "e5e82b9b-1814-48fa-d36e-f847a9520a9f"
      },
      "execution_count": null,
      "outputs": [
        {
          "output_type": "stream",
          "name": "stdout",
          "text": [
            "original matrix:\n",
            "[[0.9263837  0.56588814 0.18170419]\n",
            " [0.8985681  0.24144046 0.12469358]\n",
            " [0.35138521 0.24367984 0.46135569]]\n",
            "\n",
            "the first column:\n",
            "[0.56588814 0.24144046 0.24367984]\n",
            "\n",
            "the first two rows:\n",
            "[[0.9263837  0.56588814 0.18170419]\n",
            " [0.8985681  0.24144046 0.12469358]]\n",
            "\n",
            "the element in the bottom right corner: 0.4613556921171913\n",
            "\n",
            "the middle element: 0.2414404567236449\n"
          ]
        }
      ]
    },
    {
      "cell_type": "markdown",
      "source": [
        "## Filtering, Sorting, and Permuting Arrays\n",
        "\n",
        "Throughout this notebook you will be required to filter a `numpy` array based on some condition. The beginner way to do this would be to loop through the elements and copy the ones that satisfy the predicate into a new array.\n",
        "\n",
        "There is a simpler way to filter by indexing an array with another array."
      ],
      "metadata": {
        "id": "ky1S5-HeeYbD"
      }
    },
    {
      "cell_type": "code",
      "source": [
        "vector = np.arange(5)\n",
        "print(vector)\n",
        "\n",
        "# create mask array with booleans from condition\n",
        "filter_evens = vector % 2 == 0\n",
        "print('evens mask:')\n",
        "print(filter_evens)\n",
        "filter_small = vector < 3\n",
        "print('\\nless than 3 mask:')\n",
        "print(filter_small)\n",
        "\n",
        "# filter the original array with the mask\n",
        "evens = vector[filter_evens]\n",
        "print('\\nevens:')\n",
        "print(evens)\n",
        "small = vector[filter_small]\n",
        "print('\\nless than 3:')\n",
        "print(small)\n",
        "\n",
        "# this technique can be use to permute and select certain indices as well\n",
        "select = np.array([1, 3, 4])\n",
        "permute = np.array([3, 2, 4, 1, 0])\n",
        "\n",
        "print('\\nselect some:')\n",
        "print(vector[select])\n",
        "print('\\npermuted:')\n",
        "print(vector[permute])\n",
        "\n",
        "# can use in higher dimensions also\n",
        "mat = np.random.rand(4, 4)\n",
        "column_swap = np.array([2, 1, 0, 3])\n",
        "print('\\noriginal:')\n",
        "print(mat)\n",
        "print('\\nwith swapped columns:')\n",
        "print(mat[:,column_swap])\n",
        "\n",
        "# simple sorthing is easy\n",
        "vector = np.random.rand(6)\n",
        "sorted = np.sort(vector)\n",
        "print('\\noriginal:')\n",
        "print(vector)\n",
        "print('\\nsorted:')\n",
        "print(sorted)"
      ],
      "metadata": {
        "id": "w9dGwsk7lOF0",
        "colab": {
          "base_uri": "https://localhost:8080/"
        },
        "outputId": "1382a8e0-cd1f-47d2-c7b5-f4c2b637f678"
      },
      "execution_count": null,
      "outputs": [
        {
          "output_type": "stream",
          "name": "stdout",
          "text": [
            "[0 1 2 3 4]\n",
            "evens mask:\n",
            "[ True False  True False  True]\n",
            "\n",
            "less than 3 mask:\n",
            "[ True  True  True False False]\n",
            "\n",
            "evens:\n",
            "[0 2 4]\n",
            "\n",
            "less than 3:\n",
            "[0 1 2]\n",
            "\n",
            "select some:\n",
            "[1 3 4]\n",
            "\n",
            "permuted:\n",
            "[3 2 4 1 0]\n",
            "\n",
            "original:\n",
            "[[0.30734004 0.34151461 0.23370973 0.27490951]\n",
            " [0.83839256 0.23999405 0.26544212 0.67255686]\n",
            " [0.37769502 0.21205643 0.76538371 0.93020272]\n",
            " [0.57284119 0.37268785 0.10336464 0.89657409]]\n",
            "\n",
            "with swapped columns:\n",
            "[[0.23370973 0.34151461 0.30734004 0.27490951]\n",
            " [0.26544212 0.23999405 0.83839256 0.67255686]\n",
            " [0.76538371 0.21205643 0.37769502 0.93020272]\n",
            " [0.10336464 0.37268785 0.57284119 0.89657409]]\n",
            "\n",
            "original:\n",
            "[0.83632996 0.64587158 0.51622275 0.06293298 0.82376726 0.43800594]\n",
            "\n",
            "sorted:\n",
            "[0.06293298 0.43800594 0.51622275 0.64587158 0.82376726 0.83632996]\n"
          ]
        }
      ]
    },
    {
      "cell_type": "markdown",
      "source": [
        "## Iterators\n",
        "\n",
        "Often times you want to iterate over an array. Two common patterns are using an index variable and using iterators. I suggest using iterators when you can because they are less error prone and more idiomatic python."
      ],
      "metadata": {
        "id": "QphQ2sGwbGRx"
      }
    },
    {
      "cell_type": "code",
      "source": [
        "vector = np.arange(5)\n",
        "print('starting data:')\n",
        "print(vector)\n",
        "print()\n",
        "\n",
        "# using an iterator\n",
        "for element in vector:\n",
        "  element **= 2\n",
        "  print(element)\n",
        "\n",
        "print('notice this didnt mutate our vector: ')\n",
        "print(vector)\n",
        "print()\n",
        "\n",
        "# you decide which is better...\n",
        "for i in range(len(vector)):\n",
        "  vector[i] **= 2\n",
        "  print(vector[i])\n",
        "\n",
        "print('but this one did mutate it: ')\n",
        "print(vector)\n",
        "print('This is because python avoids mutation through iterators for optimization')"
      ],
      "metadata": {
        "id": "xWrp2QXmbZLD",
        "colab": {
          "base_uri": "https://localhost:8080/"
        },
        "outputId": "fc8bc33a-b346-4a04-e6a9-063c94606a0c"
      },
      "execution_count": null,
      "outputs": [
        {
          "output_type": "stream",
          "name": "stdout",
          "text": [
            "starting data:\n",
            "[0 1 2 3 4]\n",
            "\n",
            "0\n",
            "1\n",
            "4\n",
            "9\n",
            "16\n",
            "notice this didnt mutate our vector: \n",
            "[0 1 2 3 4]\n",
            "\n",
            "0\n",
            "1\n",
            "4\n",
            "9\n",
            "16\n",
            "but this one did mutate it: \n",
            "[ 0  1  4  9 16]\n",
            "This is because python avoids mutation through iterators for optimization\n"
          ]
        }
      ]
    },
    {
      "cell_type": "markdown",
      "source": [
        "## Exercise 1\n",
        "\n",
        "For the first section of in class exercises to prepare you for the first homework, do the following:\n",
        "\n",
        "### Level 1\n",
        "*   Create a numpy vector with the row sums of $A$\n",
        "*   Create a numpy vector with the column sums of $A$\n",
        "*   Find the average of the elements of $A$\n",
        "\n",
        "### Level 2\n",
        "*   Calculate $A^{10000} v$ using a loop. Think about the most efficient way to do this...\n",
        "*   Calculate $A  A^T$. Check with a loop if the matrix is symmetric\n",
        "*   Calculate $||v||_{l_2}$ by hand. Check if it is correct with `np.linalg.norm(v)`\n",
        "\n",
        "### Level 3\n",
        "*   Calculate $Av$ by hand and check it is correct with `A @ v` or `A.dot(v)`\n",
        "*   Calculate $vv^T$ by hand and check if it is correct with `v @ v.T`\n",
        "*   Using the result from the previous step, calculate $A - vv^T$ and check with `A - v @ v.T`"
      ],
      "metadata": {
        "id": "gzhrxgCAfaiK"
      }
    },
    {
      "cell_type": "code",
      "source": [
        "import numpy as np\n",
        "\n",
        "A = np.random.rand(3, 3)\n",
        "v = np.random.rand(3, 1)\n",
        "\n",
        "################\n",
        "#    Level 1   #\n",
        "################\n",
        "print(A)\n",
        "print()\n",
        "#1_a\n",
        "#The sow sums of A\n",
        "sum_row = np.sum(A, axis = 1)\n",
        "print(\"The row sums of A\")\n",
        "print(sum_row)\n",
        "print()\n",
        "\n",
        "#1_b\n",
        "#The column sums of A\n",
        "sum_col = np.sum(A, axis = 0)\n",
        "print(\"The column sum of A\")\n",
        "print(sum_col)\n",
        "print()\n",
        "\n",
        "#1_c\n",
        "#The row averages of A\n",
        "ave_row = np.average(A, axis = 1)\n",
        "print(\"The row average of A\")\n",
        "print(ave_row)\n",
        "print()\n",
        "\n",
        "#The column averages of A\n",
        "ave_col = np.average(A, axis = 0)\n",
        "print(\"The column average of A\")\n",
        "print(ave_col)\n",
        "print()\n"
      ],
      "metadata": {
        "id": "ERPiry4dfg5m",
        "colab": {
          "base_uri": "https://localhost:8080/"
        },
        "outputId": "9cc3ee5b-e060-447c-a35d-4ffdb3454313"
      },
      "execution_count": null,
      "outputs": [
        {
          "output_type": "stream",
          "name": "stdout",
          "text": [
            "[[0.55732643 0.46296255 0.07335815]\n",
            " [0.59262604 0.97636018 0.25783119]\n",
            " [0.06199761 0.82845852 0.61706769]]\n",
            "\n",
            "The row sums of A\n",
            "[1.09364713 1.8268174  1.50752382]\n",
            "\n",
            "The column sum of A\n",
            "[1.21195008 2.26778125 0.94825703]\n",
            "\n",
            "The row average of A\n",
            "[0.36454904 0.60893913 0.50250794]\n",
            "\n",
            "The column average of A\n",
            "[0.40398336 0.75592708 0.31608568]\n",
            "\n"
          ]
        }
      ]
    },
    {
      "cell_type": "code",
      "source": [
        "################\n",
        "#    Level 2   #\n",
        "################\n",
        "#2_a\n",
        "print(A, \"\\n\")\n",
        "print(v, \"\\n\")\n",
        "\n",
        "A_expo = A @ A\n",
        "print(A_expo, \"\\n\")\n",
        "\n",
        "n = 1\n",
        "ans = A\n",
        "while n < 100:\n",
        "  ans = ans @ A\n",
        "  n += 1\n",
        "\n",
        "print(ans, \"\\n\") \n",
        "\n",
        "#when n equals to 10000, the matrix is too large\n",
        "#change 10000 to 100\n",
        "A_time_v = A @ v\n",
        "print(\"Matrix A times Vector v is:\\n\",A_time_v, \"\\n\")\n",
        "\n",
        "##test1 = A @ A @ A\n",
        "##print(test1)\n",
        "#2_b\n",
        "#A transpose\n",
        "A_transp = A.transpose()\n",
        "print(\"transpose A is:\")\n",
        "print(A_transp, \"\\n\")\n",
        "\n",
        "A_time_AT = A @ A_transp\n",
        "print(\"A times A transpose is:\\n\", A_time_AT, \"\\n\")\n",
        "\n",
        "#2_c\n",
        "Frob_norm = np.linalg.norm(v)\n",
        "print(\"the Frobenius norm is:\\n\", Frob_norm, \"\\n\")\n",
        "\n"
      ],
      "metadata": {
        "colab": {
          "base_uri": "https://localhost:8080/"
        },
        "id": "4o83PW1_NTUo",
        "outputId": "5a7e3a21-4dad-4de6-ea6e-b4b7d36d95e4"
      },
      "execution_count": null,
      "outputs": [
        {
          "output_type": "stream",
          "name": "stdout",
          "text": [
            "[[0.55732643 0.46296255 0.07335815]\n",
            " [0.59262604 0.97636018 0.25783119]\n",
            " [0.06199761 0.82845852 0.61706769]] \n",
            "\n",
            "[[0.08824686]\n",
            " [0.79408155]\n",
            " [0.83482162]] \n",
            "\n",
            "[[0.58952444 0.77081365 0.20551756]\n",
            " [0.92488753 1.4412453  0.45430935]\n",
            " [0.56377572 1.34879147 0.59892301]] \n",
            "\n",
            "[[1.05997803e+18 1.69662028e+18 5.59071861e+17]\n",
            " [1.95664143e+18 3.13183619e+18 1.03200551e+18]\n",
            " [1.83034564e+18 2.92968482e+18 9.65392408e+17]] \n",
            "\n",
            "Matrix A times Vector v is:\n",
            " [[0.47805329]\n",
            " [1.04285003]\n",
            " [1.17847617]] \n",
            "\n",
            "transpose A is:\n",
            "[[0.55732643 0.59262604 0.06199761]\n",
            " [0.46296255 0.97636018 0.82845852]\n",
            " [0.07335815 0.25783119 0.61706769]] \n",
            "\n",
            "A times A transpose is:\n",
            " [[0.53032849 0.80121837 0.46336512]\n",
            " [0.80121837 1.37096173 1.0047146 ]\n",
            " [0.46336512 1.0047146  1.07095977]] \n",
            "\n",
            "the Frobenius norm is:\n",
            " 1.1555432295983126 \n",
            "\n"
          ]
        }
      ]
    },
    {
      "cell_type": "code",
      "source": [
        "################\n",
        "#    Level 3   #\n",
        "################\n",
        "\n",
        "\n"
      ],
      "metadata": {
        "id": "_3rqH2AIjpmm"
      },
      "execution_count": null,
      "outputs": []
    },
    {
      "cell_type": "markdown",
      "source": [
        "## Homework 1\n",
        "\n",
        "For the first homework you will implement $LU$ factorization and use the factorization to solve a two part linear system using the triangular matrices.\n",
        "\n",
        "You will solve for $Ax = \\mathbb{1}$. Once you have $A = LU$ you can solve the problem by doing:\n",
        "*   First find $v$ with lower triangular solve: $Lv = \\mathbb{1}$ \n",
        "*   Then find $x$ with upper triangular solve: $Ux = v$\n",
        "\n",
        "Note: plugging $v = Ux$ into $Lv = \\mathbb{1}$ gives $LUx = \\mathbb{1}$ or $Ax = \\mathbb{1}$.\n",
        "\n",
        "Work with either `100_orthonormal.npy` or `1000_orthonormal.npy`.\n",
        "\n",
        "You can check your work by using `np.solve(A, b)` and finding the norm of the difference with your solution."
      ],
      "metadata": {
        "id": "xK3PLPWokdvf"
      }
    },
    {
      "cell_type": "code",
      "source": [
        "from google.colab import drive\n",
        "drive.mount('/content/drive')\n",
        "folder = 'drive/MyDrive/MTH343/matrices'\n"
      ],
      "metadata": {
        "id": "XYyzgxmeqmOd",
        "colab": {
          "base_uri": "https://localhost:8080/"
        },
        "outputId": "18fbe554-5733-4bb2-d163-82afa13a0525"
      },
      "execution_count": null,
      "outputs": [
        {
          "output_type": "stream",
          "name": "stdout",
          "text": [
            "Mounted at /content/drive\n"
          ]
        }
      ]
    },
    {
      "cell_type": "code",
      "source": [
        "import numpy as np\n",
        "\n",
        "A = np.load(f'{folder}/100_orthonormal.npy')\n",
        "b = np.ones(100)\n",
        "\n",
        "# guessing random numbers probably wont work but let's try\n",
        "# (your code goes here)\n",
        "x = np.random.rand(100)\n",
        "\n",
        "# Check your work:\n",
        "actual_solution = np.linalg.solve(A, b)\n",
        "print(f'norm of error: {np.linalg.norm(x - actual_solution)}')"
      ],
      "metadata": {
        "id": "nVI8h3h6lkUt",
        "colab": {
          "base_uri": "https://localhost:8080/"
        },
        "outputId": "ff0bf39a-831d-4306-b756-98d893b1bfea"
      },
      "execution_count": null,
      "outputs": [
        {
          "output_type": "stream",
          "name": "stdout",
          "text": [
            "norm of error: 11.919476655724383\n"
          ]
        }
      ]
    },
    {
      "cell_type": "code",
      "source": [
        "print(A)"
      ],
      "metadata": {
        "colab": {
          "base_uri": "https://localhost:8080/"
        },
        "id": "EGBtimARcw8H",
        "outputId": "e8efca09-00c9-49e4-a0db-1adc3da374af"
      },
      "execution_count": null,
      "outputs": [
        {
          "output_type": "stream",
          "name": "stdout",
          "text": [
            "[[-0.07047942 -0.03473162 -0.17349873 ...  0.1606415   0.31964962\n",
            "  -0.18321195]\n",
            " [-0.12518212 -0.03546028  0.07271342 ...  0.11974919 -0.22927868\n",
            "  -0.05191987]\n",
            " [-0.00077188 -0.18132404  0.01457022 ... -0.04190269  0.0805136\n",
            "  -0.03097356]\n",
            " ...\n",
            " [-0.12567548  0.01144142  0.08755717 ...  0.06764805 -0.11347368\n",
            "   0.03149286]\n",
            " [-0.14326392  0.09813543 -0.06890171 ... -0.14358401 -0.07232055\n",
            "  -0.06155001]\n",
            " [-0.15506036  0.09034761  0.12193978 ... -0.04932714  0.07339221\n",
            "  -0.08073681]]\n"
          ]
        }
      ]
    },
    {
      "cell_type": "code",
      "source": [
        "def lu(Mat):\n",
        "    n = Mat.shape[0]\n",
        "    U = np.zeros((n, n), dtype=np.double)\n",
        "    L = np.eye(n, dtype=np.double)\n",
        "    for k in range(n):\n",
        "        U[k, k:] = Mat[k, k:] - L[k,:k] @ U[:k,k:]\n",
        "        L[(k+1):,k] = (Mat[(k+1):,k] - L[(k+1):,:] @ U[:,k]) / U[k, k]\n",
        "    return L, U"
      ],
      "metadata": {
        "id": "6nNwcIkDsKO6"
      },
      "execution_count": null,
      "outputs": []
    },
    {
      "cell_type": "code",
      "source": [
        "L, U = lu(A)\n",
        "print(L)"
      ],
      "metadata": {
        "colab": {
          "base_uri": "https://localhost:8080/"
        },
        "id": "fVxqanzPsb8u",
        "outputId": "d6f1439b-e590-444e-c9d8-683590f45bcb"
      },
      "execution_count": null,
      "outputs": [
        {
          "output_type": "stream",
          "name": "stdout",
          "text": [
            "[[ 1.          0.          0.         ...  0.          0.\n",
            "   0.        ]\n",
            " [ 1.77615147  1.          0.         ...  0.          0.\n",
            "   0.        ]\n",
            " [ 0.01095185 -6.89878543  1.         ...  0.          0.\n",
            "   0.        ]\n",
            " ...\n",
            " [ 1.78315161  2.79747665 -0.2528533  ...  1.          0.\n",
            "   0.        ]\n",
            " [ 2.03270587  6.43329375 -0.81939194 ... -0.66145477  1.\n",
            "   0.        ]\n",
            " [ 2.20008017  6.35800719 -0.72538584 ...  0.89433064 -0.76235374\n",
            "   1.        ]]\n"
          ]
        }
      ]
    },
    {
      "cell_type": "code",
      "source": [
        "print(U)"
      ],
      "metadata": {
        "colab": {
          "base_uri": "https://localhost:8080/"
        },
        "id": "XU8Qd3yBSO9N",
        "outputId": "e1951f32-274a-491a-e135-7cc64489483e"
      },
      "execution_count": null,
      "outputs": [
        {
          "output_type": "stream",
          "name": "stdout",
          "text": [
            "[[ -0.07047942  -0.03473162  -0.17349873 ...   0.1606415    0.31964962\n",
            "   -0.18321195]\n",
            " [  0.           0.02622834   0.38087343 ...  -0.16557444  -0.79702481\n",
            "    0.27349231]\n",
            " [  0.           0.           2.64403445 ...  -1.18592455  -5.42149033\n",
            "    1.8577977 ]\n",
            " ...\n",
            " [  0.           0.           0.         ...   8.43827662  -6.97180116\n",
            "  -11.4930459 ]\n",
            " [  0.           0.           0.         ...   0.          -7.79597143\n",
            "   -7.08677418]\n",
            " [  0.           0.           0.         ...   0.           0.\n",
            "  -12.3859234 ]]\n"
          ]
        }
      ]
    },
    {
      "cell_type": "code",
      "source": [
        "np.allclose(A, L @ U)"
      ],
      "metadata": {
        "colab": {
          "base_uri": "https://localhost:8080/"
        },
        "id": "_HfK2_JqsfYy",
        "outputId": "bb559ed3-dd93-4b4d-b885-71279835639f"
      },
      "execution_count": null,
      "outputs": [
        {
          "output_type": "execute_result",
          "data": {
            "text/plain": [
              "True"
            ]
          },
          "metadata": {},
          "execution_count": 10
        }
      ]
    },
    {
      "cell_type": "code",
      "source": [
        "#Lv = b\n",
        "def Lv_b(L, b):\n",
        "  #number of row\n",
        "  n = L.shape[0]\n",
        "  #return an array of zeroos with the same shape\n",
        "  v = np.zeros_like(b, dtype = np.double)\n",
        "\n",
        "  #calculate Lv = b, so v = b / L\n",
        "  #first row is v[1] = b[1] / L[1, 1]\n",
        "  #second row is v[2] = (b[2] - L[2, 1] * y[1]]) / L[2, 2]\n",
        "  # ....\n",
        "  v[0] = b[0] / L[0, 0]\n",
        "\n",
        "  for i in range(1, n):\n",
        "    v[i] = (b[i] - np.dot(L[i, :i], v[:i])) / L[i, i]\n",
        "  return v\n",
        "\n",
        "print(\"The matrix v is: \\n\", Lv_b(L, b))\n",
        "\n"
      ],
      "metadata": {
        "colab": {
          "base_uri": "https://localhost:8080/"
        },
        "id": "3S7etIbWQbNI",
        "outputId": "ca2b4d2b-307e-454f-f1e3-b5d3e5fcc81c"
      },
      "execution_count": null,
      "outputs": [
        {
          "output_type": "stream",
          "name": "stdout",
          "text": [
            "The matrix v is: \n",
            " [ 1.         -0.77615147 -4.36545431 -0.41664068 -0.50537318  3.26338663\n",
            "  0.50161626  0.65737473 10.70672953 -1.94913472 -0.45196261  1.1590193\n",
            " -0.9300986  -2.25115348 -1.85769575  1.39035377  0.67315012 -0.54821749\n",
            "  0.72467929  0.02329838 -0.29351706 -0.01961737 -0.1170711  -1.49623396\n",
            " -0.25202855 -1.62148444 -0.44884606  0.91126919 -1.29025068  1.03785036\n",
            " -1.56622102  0.55914055  1.4472684   1.17179886 -0.51234302  2.82554295\n",
            " -4.65342993 -1.49757537 -0.45241714 -4.98006395 -1.38335201  0.77081386\n",
            " -0.0182535  -0.60589869 -1.17146524 -0.92641286  0.99868551  0.77614558\n",
            " -1.94021867 -0.84816066  2.13682002  0.39297051  0.08610391  0.22882843\n",
            " -0.76477997 -0.16007001  7.54656847 -1.25898306 -0.66464111  2.51807122\n",
            " -0.29979398 -1.11933797  0.81096735  0.40923238 -0.05295054  0.17918599\n",
            "  1.13524485 -3.75313914 -1.28481345 -0.95939835 -3.12209028  0.95698592\n",
            "  4.54186611 -0.97914481  2.2234579  -1.36366072  1.19425038 -0.73392984\n",
            " -1.50080262  0.17226396  0.66609169 -0.07458469 -0.84217216 -0.16582034\n",
            " -0.85237898 -2.44927198 -0.23091581 -0.67202862 -0.05434712 -0.19098418\n",
            " -0.04944256  0.55428153 -0.35887315  0.28923325 -0.60969538 -0.13666258\n",
            "  0.09231642 -0.34506016 -0.22900459 -0.31506243]\n"
          ]
        }
      ]
    },
    {
      "cell_type": "code",
      "source": [
        "#v = Ux\n",
        "def v_Ux(U, v):\n",
        "  #Number of row\n",
        "  n = U.shape[0]\n",
        "  #return an array of zeroos with the same shape\n",
        "  x = np.zeros_like(b, dtype = np.double)\n",
        "\n",
        "  #calculate v = Ux, so x = v / U\n",
        "  #first row is  x[n] = v[n] / U[n, n]\n",
        "  #second row is x[n-1] = (v[n-1] - U[n-1, n] * x[n]) / U[n-1, n-1]\n",
        "  x[-1] = v[-1] / U[-1, -1]\n",
        "\n",
        "  for i in range(n-2, -1, -1):\n",
        "    x[i] = (v[i] - np.dot(U[i, i:], x[i:])) / U[i,i]\n",
        "  return x\n",
        "\n",
        "v_Ux(U, Lv_b(L, b))"
      ],
      "metadata": {
        "colab": {
          "base_uri": "https://localhost:8080/"
        },
        "id": "bv8rvQkEZiNM",
        "outputId": "48486cda-9a31-4030-f197-77c1c6001cc5"
      },
      "execution_count": null,
      "outputs": [
        {
          "output_type": "execute_result",
          "data": {
            "text/plain": [
              "array([-8.59573153e+00, -3.77342677e+00, -1.66480285e+00,  1.47284907e+00,\n",
              "        1.15210220e+00,  8.63708265e-01, -7.84324967e-01,  7.00091143e-01,\n",
              "       -6.50049780e-01,  8.63250476e-01, -3.69931611e-01, -5.42305361e-01,\n",
              "        2.95643716e-01, -3.89308992e-01,  5.47002141e-01,  1.98709520e-01,\n",
              "        1.44682331e-01, -1.79879744e-01,  2.84065872e-01,  2.08572362e-01,\n",
              "        4.98118984e-02, -3.74259574e-01,  2.61354106e-01, -2.85109596e-01,\n",
              "        1.48895894e-01, -1.13402685e-01,  1.24892432e-01, -1.97067423e-01,\n",
              "       -2.26982867e-01, -3.42244779e-01,  2.40739410e-01, -2.49270749e-01,\n",
              "       -8.75702945e-02, -2.60952865e-01,  2.66234920e-01,  8.71319636e-02,\n",
              "        7.88312463e-02,  2.10339023e-01, -1.20030568e-01,  1.03311973e-01,\n",
              "        1.37696780e-01, -4.33348613e-02,  1.18412215e-01,  1.40229378e-01,\n",
              "        1.35079408e-01, -2.54847696e-01, -8.93976125e-02, -2.31502576e-03,\n",
              "       -9.04843482e-03,  7.04232244e-02, -1.51828932e-01,  3.73615225e-02,\n",
              "       -1.01334904e-01,  4.82795696e-02, -7.63511447e-02, -1.69780296e-02,\n",
              "       -1.34216412e-01,  3.74214740e-02, -1.20304754e-01, -8.06340037e-02,\n",
              "        2.87260389e-02,  1.51067627e-01,  5.74831820e-02,  1.03419402e-01,\n",
              "        1.03653952e-01, -1.45703577e-02, -1.48650542e-01, -7.59162287e-02,\n",
              "       -5.43627676e-02,  7.38320903e-02, -2.95501684e-02, -2.99844635e-02,\n",
              "        4.25349285e-02, -7.06633053e-03,  1.30512339e-02, -6.98835810e-02,\n",
              "        4.95938927e-03,  4.92575421e-02,  1.46924957e-01, -1.28385118e-01,\n",
              "        1.46113193e-01, -1.33123544e-01,  1.24750724e-01, -3.68023547e-02,\n",
              "       -5.66224326e-03,  1.27559399e-01, -1.17144211e-02,  1.20037598e-01,\n",
              "        1.15485291e-01,  2.09882783e-02,  5.70903918e-02,  6.43897446e-02,\n",
              "       -1.24867974e-01, -5.56979434e-03, -6.24128305e-02,  6.58060222e-02,\n",
              "       -1.55113477e-02, -1.08138431e-03,  6.25160594e-03,  2.54371370e-02])"
            ]
          },
          "metadata": {},
          "execution_count": 12
        }
      ]
    },
    {
      "cell_type": "code",
      "source": [
        "A @ v_Ux(U, Lv_b(L, b))"
      ],
      "metadata": {
        "colab": {
          "base_uri": "https://localhost:8080/"
        },
        "id": "R5DoqtCTcQR-",
        "outputId": "8eae7c57-d3f7-4bc5-a976-78882f005816"
      },
      "execution_count": null,
      "outputs": [
        {
          "output_type": "execute_result",
          "data": {
            "text/plain": [
              "array([1., 1., 1., 1., 1., 1., 1., 1., 1., 1., 1., 1., 1., 1., 1., 1., 1.,\n",
              "       1., 1., 1., 1., 1., 1., 1., 1., 1., 1., 1., 1., 1., 1., 1., 1., 1.,\n",
              "       1., 1., 1., 1., 1., 1., 1., 1., 1., 1., 1., 1., 1., 1., 1., 1., 1.,\n",
              "       1., 1., 1., 1., 1., 1., 1., 1., 1., 1., 1., 1., 1., 1., 1., 1., 1.,\n",
              "       1., 1., 1., 1., 1., 1., 1., 1., 1., 1., 1., 1., 1., 1., 1., 1., 1.,\n",
              "       1., 1., 1., 1., 1., 1., 1., 1., 1., 1., 1., 1., 1., 1., 1.])"
            ]
          },
          "metadata": {},
          "execution_count": 13
        }
      ]
    }
  ]
}